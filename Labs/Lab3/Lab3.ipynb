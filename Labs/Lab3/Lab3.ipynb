{
 "cells": [
  {
   "cell_type": "markdown",
   "metadata": {},
   "source": [
    "# Lab Three: Extending Logistic Regression\n",
    "\n",
    "#### Machine Learning in Python\n",
    "\n",
    "Will Lacey - 45906124 - <strong>CSE7324</strong>\n",
    "<br>\n",
    "Roger Wong - 43867412 - <strong>CSE5324</strong>"
   ]
  },
  {
   "cell_type": "markdown",
   "metadata": {},
   "source": [
    "## Preparation and Overview (30 points total)\n",
    "<em>\n",
    "    <strong>[20 points]</strong> Explain the task and what business-case or use-case it is designed to solve (or designed to investigate). Detail exactly what the classification task is and what parties would be interested in the results. For example, would the model be deployed or use mostly for offline analysis? \n",
    "</em>"
   ]
  },
  {
   "cell_type": "markdown",
   "metadata": {},
   "source": [
    "#### Business Understanding\n",
    "\n",
    "<p>Dataset description: “The data was obtained in a student survey in both Portuguese language and Math courses in secondary school. It contains a lot of interesting social, gender, and study information about students. You can use it for some EDA or try to predict student’s susceptibility to alcohol.” Collected in 2008.</p>\n",
    "<p>\n",
    "This dataset has more than 1000 students and 33 features (34 in consideration of which school a student is from) that includes both categorical and numerical data.</p>\n",
    "<p>\n",
    "We will be looking at what factors affect student grades. In the dataset are three grades, G1, G2, and G3, which all range from 0-19. In this study, we will take the mean of all the grades and then divide them into three categories. Mean grades less than 10 are classified as 0, which refelect the potential of failing. Mean grades between 10 and 14 are classified as 1, which reflect an equivalent grade to that of a C- or B. And lastly, mean grades between 15 and 19 are classified as 2, which is more or less excelling. Our Multi-Class Logistic Regression will classify the data into those three mean grade classes and determine which students are in need of academic support.\n",
    "</p>\n",
    "<p>\n",
    "Our business case is to see how the factors we chose affects a students overall grade. As our classifier trains with the dataset, it will be able to tell a students overall grade with the given information. The one issue that may arise in the event of rolling out this software to schools is that it is effectively profiling students. However, if schools use the software to help accepted students succeed, this program will be beneficial despite its ethical ramifications. \n",
    "</p>\n",
    "<p>\n",
    "We believe schools, parents, and colleges will be interested in our business-case because they will be able to better provide support and resources to students, allowing them to achieve the best possible grades. If our classifier has a high enough percentage, then support systems can see which students will struggle the most in the future. We will be able to predict which students need the most help, even if students don't realize what kind of situation they are in.\n",
    "</p>\n"
   ]
  },
  {
   "cell_type": "markdown",
   "metadata": {},
   "source": [
    "#### Measure of Success\n",
    "\n",
    "<p> Now in order for our classifier to be actually useful to our interested parties, we need to determine an appropriate measure of success. There are two situations we need to pay attention to. One is a false positive where our classifier determines a student will fail but instead they succeed. The second is a false negative where our classifier determines a student will succeed but instead they fail. If our classifier provides too many false positives, then that means extra school resources won't go to students in need. If there are too many false negatives then the failing students will slide under the radar and not get enough extra support. The false negatives take higher priority since the stuggling students won't get the right resources. Alternatively, if passing students get more resources, it isn't the end of the world. Truthfully, the worst case in this scenario is simply that passing students receive attention that could have gone to failing students.\n",
    "</p>"
   ]
  },
  {
   "cell_type": "markdown",
   "metadata": {},
   "source": [
    "#### Import Modules and Initialization\n",
    "\n",
    "Alright. Before we begin, let's import essential packages for data analysis"
   ]
  },
  {
   "cell_type": "code",
   "execution_count": 52,
   "metadata": {
    "collapsed": false,
    "jupyter": {
     "outputs_hidden": false
    }
   },
   "outputs": [],
   "source": [
    "import numpy as np\n",
    "import pandas as pd\n",
    "import matplotlib\n",
    "import matplotlib.pyplot as plt\n",
    "from matplotlib.pyplot import figure\n",
    "import seaborn as sns\n",
    "from sklearn.model_selection import ShuffleSplit\n",
    "from sklearn.linear_model import LogisticRegression\n",
    "from sklearn.metrics import accuracy_score\n",
    "from scipy.special import expit\n",
    "from scipy.optimize import minimize_scalar\n",
    "from scipy.optimize import fmin_bfgs\n",
    "import warnings\n",
    "from sklearn.metrics import mean_squared_error\n",
    "warnings.filterwarnings(\"ignore\")\n",
    "warnings.simplefilter('ignore', DeprecationWarning)\n",
    "\n",
    "%matplotlib inline"
   ]
  },
  {
   "cell_type": "markdown",
   "metadata": {},
   "source": [
    "<em>\n",
    "    <strong>[5 points]</strong> (mostly the same processes as from previous labs) Define and prepare your class variables. Use proper variable representations (int, float, one-hot, etc.). Use pre-processing methods (as needed) for dimensionality reduction, scaling, etc. Remove variables that are not needed/useful for the analysis. Describe the final dataset that is used for classification/regression (include a description of any newly formed variables you created).\n",
    "</em>"
   ]
  },
  {
   "cell_type": "code",
   "execution_count": 24,
   "metadata": {
    "collapsed": false,
    "jupyter": {
     "outputs_hidden": false
    }
   },
   "outputs": [
    {
     "name": "stdout",
     "output_type": "stream",
     "text": [
      "Succeeded to Open File.\n",
      "\n",
      "<class 'pandas.core.frame.DataFrame'>\n",
      "RangeIndex: 1044 entries, 0 to 1043\n",
      "Data columns (total 34 columns):\n",
      "school        1044 non-null object\n",
      "sex           1044 non-null object\n",
      "age           1044 non-null int64\n",
      "address       1044 non-null object\n",
      "famsize       1044 non-null object\n",
      "Pstatus       1044 non-null object\n",
      "Medu          1044 non-null int64\n",
      "Fedu          1044 non-null int64\n",
      "Mjob          1044 non-null object\n",
      "Fjob          1044 non-null object\n",
      "reason        1044 non-null object\n",
      "guardian      1044 non-null object\n",
      "traveltime    1044 non-null int64\n",
      "studytime     1044 non-null int64\n",
      "failures      1044 non-null int64\n",
      "schoolsup     1044 non-null object\n",
      "famsup        1044 non-null object\n",
      "paid          1044 non-null object\n",
      "activities    1044 non-null object\n",
      "nursery       1044 non-null object\n",
      "higher        1044 non-null object\n",
      "internet      1044 non-null object\n",
      "romantic      1044 non-null object\n",
      "famrel        1044 non-null int64\n",
      "freetime      1044 non-null int64\n",
      "goout         1044 non-null int64\n",
      "Dalc          1044 non-null int64\n",
      "Walc          1044 non-null int64\n",
      "health        1044 non-null int64\n",
      "absences      1044 non-null int64\n",
      "G1            1044 non-null int64\n",
      "G2            1044 non-null int64\n",
      "G3            1044 non-null int64\n",
      "class         1044 non-null object\n",
      "dtypes: int64(16), object(18)\n",
      "memory usage: 277.4+ KB\n",
      "None\n"
     ]
    }
   ],
   "source": [
    "try:\n",
    "    df_mat = pd.read_csv('student-mat.csv') # read in the csv file\n",
    "    df_por = pd.read_csv('student-por.csv') # read in the csv file\n",
    "    df_mat['class'] = \"math\"\n",
    "    df_por['class'] = \"portuguese\"\n",
    "    df = pd.concat([df_mat, df_por], ignore_index=True)\n",
    "    print(\"Succeeded to Open File.\\n\")\n",
    "    print(df.info())\n",
    "\n",
    "except IOError:\n",
    "    print(\"Failed to Open Files. Quitting Program.\")\n",
    "    sys.exit"
   ]
  },
  {
   "cell_type": "markdown",
   "metadata": {},
   "source": [
    "In trying to predict grades, we decided to use our first lab assignment to best select appropriate variables. Any variables that we noticed to have a lack of correlation to grades, we dropped for simplicity. Additionally, we removed information such as absences, so that we could make the assumption that our program would only be used on information prior to the beginning of a semester. This is so a school could aid potentially weaker students before they began to fall behind."
   ]
  },
  {
   "cell_type": "code",
   "execution_count": 3,
   "metadata": {
    "collapsed": false,
    "jupyter": {
     "outputs_hidden": false
    }
   },
   "outputs": [
    {
     "data": {
      "text/html": [
       "<div>\n",
       "<style scoped>\n",
       "    .dataframe tbody tr th:only-of-type {\n",
       "        vertical-align: middle;\n",
       "    }\n",
       "\n",
       "    .dataframe tbody tr th {\n",
       "        vertical-align: top;\n",
       "    }\n",
       "\n",
       "    .dataframe thead th {\n",
       "        text-align: right;\n",
       "    }\n",
       "</style>\n",
       "<table border=\"1\" class=\"dataframe\">\n",
       "  <thead>\n",
       "    <tr style=\"text-align: right;\">\n",
       "      <th></th>\n",
       "      <th>sex</th>\n",
       "      <th>age</th>\n",
       "      <th>address</th>\n",
       "      <th>Pstatus</th>\n",
       "      <th>Medu</th>\n",
       "      <th>Fedu</th>\n",
       "      <th>studytime</th>\n",
       "      <th>failures</th>\n",
       "      <th>schoolsup</th>\n",
       "      <th>higher</th>\n",
       "      <th>Dalc</th>\n",
       "      <th>Walc</th>\n",
       "    </tr>\n",
       "  </thead>\n",
       "  <tbody>\n",
       "    <tr>\n",
       "      <th>0</th>\n",
       "      <td>F</td>\n",
       "      <td>18</td>\n",
       "      <td>U</td>\n",
       "      <td>A</td>\n",
       "      <td>4</td>\n",
       "      <td>4</td>\n",
       "      <td>2</td>\n",
       "      <td>0</td>\n",
       "      <td>yes</td>\n",
       "      <td>yes</td>\n",
       "      <td>1</td>\n",
       "      <td>1</td>\n",
       "    </tr>\n",
       "    <tr>\n",
       "      <th>1</th>\n",
       "      <td>F</td>\n",
       "      <td>17</td>\n",
       "      <td>U</td>\n",
       "      <td>T</td>\n",
       "      <td>1</td>\n",
       "      <td>1</td>\n",
       "      <td>2</td>\n",
       "      <td>0</td>\n",
       "      <td>no</td>\n",
       "      <td>yes</td>\n",
       "      <td>1</td>\n",
       "      <td>1</td>\n",
       "    </tr>\n",
       "    <tr>\n",
       "      <th>2</th>\n",
       "      <td>F</td>\n",
       "      <td>15</td>\n",
       "      <td>U</td>\n",
       "      <td>T</td>\n",
       "      <td>1</td>\n",
       "      <td>1</td>\n",
       "      <td>2</td>\n",
       "      <td>3</td>\n",
       "      <td>yes</td>\n",
       "      <td>yes</td>\n",
       "      <td>2</td>\n",
       "      <td>3</td>\n",
       "    </tr>\n",
       "    <tr>\n",
       "      <th>3</th>\n",
       "      <td>F</td>\n",
       "      <td>15</td>\n",
       "      <td>U</td>\n",
       "      <td>T</td>\n",
       "      <td>4</td>\n",
       "      <td>2</td>\n",
       "      <td>3</td>\n",
       "      <td>0</td>\n",
       "      <td>no</td>\n",
       "      <td>yes</td>\n",
       "      <td>1</td>\n",
       "      <td>1</td>\n",
       "    </tr>\n",
       "    <tr>\n",
       "      <th>4</th>\n",
       "      <td>F</td>\n",
       "      <td>16</td>\n",
       "      <td>U</td>\n",
       "      <td>T</td>\n",
       "      <td>3</td>\n",
       "      <td>3</td>\n",
       "      <td>2</td>\n",
       "      <td>0</td>\n",
       "      <td>no</td>\n",
       "      <td>yes</td>\n",
       "      <td>1</td>\n",
       "      <td>2</td>\n",
       "    </tr>\n",
       "  </tbody>\n",
       "</table>\n",
       "</div>"
      ]
     },
     "execution_count": 3,
     "metadata": {},
     "output_type": "execute_result"
    }
   ],
   "source": [
    "target = df[['G1', 'G2', 'G3']].mean(axis=1)\n",
    "target[(target < 10)] = 0\n",
    "target[(target < 15 ) & (target >= 10)] = 1\n",
    "target[(target >= 15)] = 2\n",
    "target = target.astype(int)\n",
    "\n",
    "data = df.drop(\n",
    "    columns=[\n",
    "        'school',\n",
    "        'famsize',\n",
    "        'Mjob',\n",
    "        'Fjob',\n",
    "        'reason',\n",
    "        'guardian',\n",
    "        'traveltime',\n",
    "        'famsup',\n",
    "        'paid',\n",
    "        'activities',\n",
    "        'nursery',\n",
    "        'internet',\n",
    "        'romantic',\n",
    "        'famrel',\n",
    "        'freetime',\n",
    "        'goout',\n",
    "        'health',\n",
    "        'class',\n",
    "        'absences',\n",
    "        'G1',\n",
    "        'G2',\n",
    "        'G3'\n",
    "])\n",
    "\n",
    "data.head()"
   ]
  },
  {
   "cell_type": "markdown",
   "metadata": {},
   "source": [
    "To better prepare the dataset, we decided to one hot encode and binary encode several variables."
   ]
  },
  {
   "cell_type": "code",
   "execution_count": 4,
   "metadata": {
    "collapsed": false,
    "jupyter": {
     "outputs_hidden": false
    }
   },
   "outputs": [],
   "source": [
    "def one_hot_encode(df, feature):\n",
    "    one_hot = pd.get_dummies(df[feature], prefix = feature)\n",
    "    df = df.drop([feature], axis=1)\n",
    "    df = pd.concat([df, one_hot], axis=1)\n",
    "    return df\n",
    "\n",
    "def binary_encode(df, feature):\n",
    "    binary = pd.get_dummies(df[feature], prefix = feature)\n",
    "    df = df.drop([feature], axis=1)\n",
    "    df = pd.concat([df, binary.iloc[:,0]], axis=1)\n",
    "    return df\n",
    "\n",
    "data = binary_encode(data, 'sex')\n",
    "data = binary_encode(data, 'Pstatus')\n",
    "data = binary_encode(data, 'higher')\n",
    "data = binary_encode(data, 'address')\n",
    "data = binary_encode(data, 'schoolsup')\n",
    "\n",
    "data = one_hot_encode(data, 'age')"
   ]
  },
  {
   "cell_type": "code",
   "execution_count": 5,
   "metadata": {
    "collapsed": false,
    "jupyter": {
     "outputs_hidden": false
    }
   },
   "outputs": [
    {
     "data": {
      "text/html": [
       "<div>\n",
       "<style scoped>\n",
       "    .dataframe tbody tr th:only-of-type {\n",
       "        vertical-align: middle;\n",
       "    }\n",
       "\n",
       "    .dataframe tbody tr th {\n",
       "        vertical-align: top;\n",
       "    }\n",
       "\n",
       "    .dataframe thead th {\n",
       "        text-align: right;\n",
       "    }\n",
       "</style>\n",
       "<table border=\"1\" class=\"dataframe\">\n",
       "  <thead>\n",
       "    <tr style=\"text-align: right;\">\n",
       "      <th></th>\n",
       "      <th>Medu</th>\n",
       "      <th>Fedu</th>\n",
       "      <th>studytime</th>\n",
       "      <th>failures</th>\n",
       "      <th>Dalc</th>\n",
       "      <th>Walc</th>\n",
       "      <th>sex_F</th>\n",
       "      <th>Pstatus_A</th>\n",
       "      <th>higher_no</th>\n",
       "      <th>address_R</th>\n",
       "      <th>schoolsup_no</th>\n",
       "      <th>age_15</th>\n",
       "      <th>age_16</th>\n",
       "      <th>age_17</th>\n",
       "      <th>age_18</th>\n",
       "      <th>age_19</th>\n",
       "      <th>age_20</th>\n",
       "      <th>age_21</th>\n",
       "      <th>age_22</th>\n",
       "    </tr>\n",
       "  </thead>\n",
       "  <tbody>\n",
       "    <tr>\n",
       "      <th>0</th>\n",
       "      <td>4</td>\n",
       "      <td>4</td>\n",
       "      <td>2</td>\n",
       "      <td>0</td>\n",
       "      <td>1</td>\n",
       "      <td>1</td>\n",
       "      <td>1</td>\n",
       "      <td>1</td>\n",
       "      <td>0</td>\n",
       "      <td>0</td>\n",
       "      <td>0</td>\n",
       "      <td>0</td>\n",
       "      <td>0</td>\n",
       "      <td>0</td>\n",
       "      <td>1</td>\n",
       "      <td>0</td>\n",
       "      <td>0</td>\n",
       "      <td>0</td>\n",
       "      <td>0</td>\n",
       "    </tr>\n",
       "    <tr>\n",
       "      <th>1</th>\n",
       "      <td>1</td>\n",
       "      <td>1</td>\n",
       "      <td>2</td>\n",
       "      <td>0</td>\n",
       "      <td>1</td>\n",
       "      <td>1</td>\n",
       "      <td>1</td>\n",
       "      <td>0</td>\n",
       "      <td>0</td>\n",
       "      <td>0</td>\n",
       "      <td>1</td>\n",
       "      <td>0</td>\n",
       "      <td>0</td>\n",
       "      <td>1</td>\n",
       "      <td>0</td>\n",
       "      <td>0</td>\n",
       "      <td>0</td>\n",
       "      <td>0</td>\n",
       "      <td>0</td>\n",
       "    </tr>\n",
       "    <tr>\n",
       "      <th>2</th>\n",
       "      <td>1</td>\n",
       "      <td>1</td>\n",
       "      <td>2</td>\n",
       "      <td>3</td>\n",
       "      <td>2</td>\n",
       "      <td>3</td>\n",
       "      <td>1</td>\n",
       "      <td>0</td>\n",
       "      <td>0</td>\n",
       "      <td>0</td>\n",
       "      <td>0</td>\n",
       "      <td>1</td>\n",
       "      <td>0</td>\n",
       "      <td>0</td>\n",
       "      <td>0</td>\n",
       "      <td>0</td>\n",
       "      <td>0</td>\n",
       "      <td>0</td>\n",
       "      <td>0</td>\n",
       "    </tr>\n",
       "    <tr>\n",
       "      <th>3</th>\n",
       "      <td>4</td>\n",
       "      <td>2</td>\n",
       "      <td>3</td>\n",
       "      <td>0</td>\n",
       "      <td>1</td>\n",
       "      <td>1</td>\n",
       "      <td>1</td>\n",
       "      <td>0</td>\n",
       "      <td>0</td>\n",
       "      <td>0</td>\n",
       "      <td>1</td>\n",
       "      <td>1</td>\n",
       "      <td>0</td>\n",
       "      <td>0</td>\n",
       "      <td>0</td>\n",
       "      <td>0</td>\n",
       "      <td>0</td>\n",
       "      <td>0</td>\n",
       "      <td>0</td>\n",
       "    </tr>\n",
       "    <tr>\n",
       "      <th>4</th>\n",
       "      <td>3</td>\n",
       "      <td>3</td>\n",
       "      <td>2</td>\n",
       "      <td>0</td>\n",
       "      <td>1</td>\n",
       "      <td>2</td>\n",
       "      <td>1</td>\n",
       "      <td>0</td>\n",
       "      <td>0</td>\n",
       "      <td>0</td>\n",
       "      <td>1</td>\n",
       "      <td>0</td>\n",
       "      <td>1</td>\n",
       "      <td>0</td>\n",
       "      <td>0</td>\n",
       "      <td>0</td>\n",
       "      <td>0</td>\n",
       "      <td>0</td>\n",
       "      <td>0</td>\n",
       "    </tr>\n",
       "  </tbody>\n",
       "</table>\n",
       "</div>"
      ]
     },
     "execution_count": 5,
     "metadata": {},
     "output_type": "execute_result"
    }
   ],
   "source": [
    "data.head()"
   ]
  },
  {
   "cell_type": "markdown",
   "metadata": {},
   "source": [
    "<em>\n",
    "    <strong>[5 points]</strong> Divide you data into training and testing data using an 80% training and 20% testing split. Use the cross validation modules that are part of scikit-learn. Argue \"for\" or \"against\" splitting your data using an 80/20 split. That is, why is the 80/20 split appropriate (or not) for your dataset?  \n",
    "</em>"
   ]
  },
  {
   "cell_type": "code",
   "execution_count": 42,
   "metadata": {
    "collapsed": false,
    "jupyter": {
     "outputs_hidden": false
    }
   },
   "outputs": [
    {
     "name": "stdout",
     "output_type": "stream",
     "text": [
      "Excelling Student Count: 142\n",
      "Passing Student Count: 581\n",
      "Failing Student Count: 321\n"
     ]
    }
   ],
   "source": [
    "print('Excelling Student Count:', (target.value_counts())[2])\n",
    "print('Passing Student Count:', (target.value_counts())[1])\n",
    "print('Failing Student Count:', (target.value_counts())[0])"
   ]
  },
  {
   "cell_type": "markdown",
   "metadata": {},
   "source": [
    "Hmm. This is kind of a problem. Because our classes aren't exactly numerous, it will be hard to train our classifier effectively for each class. Since we are also dividing our classes into an 80/20 split, it will be worrisome that some classes are rarer than others."
   ]
  },
  {
   "cell_type": "code",
   "execution_count": 6,
   "metadata": {
    "collapsed": false,
    "jupyter": {
     "outputs_hidden": false
    }
   },
   "outputs": [],
   "source": [
    "num_cv_iterations = 3\n",
    "num_instances = len(df)\n",
    "cv_object = ShuffleSplit(\n",
    "                         n_splits=num_cv_iterations,\n",
    "                         test_size  = 0.2\n",
    ")"
   ]
  },
  {
   "cell_type": "markdown",
   "metadata": {},
   "source": [
    "The following cell demos the cross validation module part of scikit-learn."
   ]
  },
  {
   "cell_type": "code",
   "execution_count": 7,
   "metadata": {
    "collapsed": false,
    "jupyter": {
     "outputs_hidden": false
    }
   },
   "outputs": [
    {
     "name": "stdout",
     "output_type": "stream",
     "text": [
      "Split Iteration: 1\n",
      "-------------------\n",
      "training data: 835\n",
      "training target: 835\n",
      "test data: 209\n",
      "test target: 209\n",
      "\n",
      "Split Iteration: 2\n",
      "-------------------\n",
      "training data: 835\n",
      "training target: 835\n",
      "test data: 209\n",
      "test target: 209\n",
      "\n",
      "Split Iteration: 3\n",
      "-------------------\n",
      "training data: 835\n",
      "training target: 835\n",
      "test data: 209\n",
      "test target: 209\n",
      "\n"
     ]
    }
   ],
   "source": [
    "split_count = 0\n",
    "for train_indices, test_indices in cv_object.split(data,target): \n",
    "    split_count = split_count + 1\n",
    "    \n",
    "    data_train = data.loc[train_indices]\n",
    "    target_train = target.loc[train_indices]\n",
    "    \n",
    "    data_test = data.loc[test_indices]\n",
    "    target_test = target.loc[test_indices]\n",
    "    \n",
    "    print('Split Iteration:', split_count)\n",
    "    print('-------------------')\n",
    "    print('training data:', len(data_train))\n",
    "    print('training target:', len(target_train))\n",
    "    print('test data:', len(data_test))\n",
    "    print('test target:', len(target_test))\n",
    "    print()\n",
    "    "
   ]
  },
  {
   "cell_type": "markdown",
   "metadata": {},
   "source": [
    "<p>Most of the time, data scientist split data into 80/20, also known as Pareto's principle. Because our data isn't time sensitive, we believe that an 80/20 split is sufficient for training our classifier. Although, our classes don't exactly follow an equal distribution. On this front, an 80/20 split in our data could prove harmful, since rarer classes may be considered less. On top of this, because we have about 800 instances for the training data and about 200 instances for our testing data, we believe that our training may yield inaccurate results. This is due to the fact that overall, our dataset is lacking a sufficient amount of entries. It would be much nicer if we had 3000 students, 1000 for each grade class, so that we could best find the differences in students and what can be best used to determine grades. Regardless, for the purpose of this lab, we still believe, despite our concerns, that a random 80/20 will be sufficient. </p>"
   ]
  },
  {
   "cell_type": "markdown",
   "metadata": {},
   "source": [
    "## Modeling (50 points total)\n",
    "<em>\n",
    "The implementation of logistic regression must be written only from the examples given to you by the instructor. No credit will be assigned to teams that copy implementations from another source, regardless of if the code is properly cited. \n",
    "<br><br>\n",
    "<strong>[20 points]</strong> Create a custom, one-versus-all logistic regression classifier using numpy and scipy to optimize. Use object oriented conventions identical to scikit-learn. You should start with the template developed by the instructor in the course. You should add the following functionality to the logistic regression classifier:\n",
    "Ability to choose optimization technique when class is instantiated: either steepest descent, stochastic gradient descent, or Newton's method. \n",
    "Update the gradient calculation to include a customizable regularization term (either using no regularization, L1 regularization, L2 regularization, or both L1 and L2 regularization). Associate a cost with the regularization term, \"C\", that can be adjusted when the class is instantiated.  \n",
    "</em>\n",
    "  \n"
   ]
  },
  {
   "cell_type": "code",
   "execution_count": 8,
   "metadata": {
    "collapsed": false,
    "jupyter": {
     "outputs_hidden": false
    }
   },
   "outputs": [],
   "source": [
    "class BinaryLogisticRegression:\n",
    "    def __init__(self, eta, iterations=20, C=0.001, reg_method='null'):\n",
    "        self.eta = eta\n",
    "        self.iters = iterations\n",
    "        self.C = C\n",
    "        self.reg_method = reg_method\n",
    "        # internally we will store the weights as self.w_ to keep with sklearn conventions\n",
    "\n",
    "    def __str__(self):\n",
    "        if(hasattr(self,'w_')):\n",
    "            return 'Binary Logistic Regression Object with coefficients:\\n'+ str(self.w_)\n",
    "        else:\n",
    "            return 'Untrained Binary Logistic Regression Object'\n",
    "\n",
    "    # convenience, private:\n",
    "    @staticmethod\n",
    "    def _add_bias(X):\n",
    "        return np.hstack((np.ones((X.shape[0],1)),X)) # add bias term\n",
    "\n",
    "    @staticmethod\n",
    "    def _sigmoid(theta):\n",
    "        # increase stability, redefine sigmoid operation\n",
    "        return expit(theta) #1/(1+np.exp(-theta))\n",
    "\n",
    "    # vectorized gradient calculation with regularization using specified Norm\n",
    "    def _get_gradient(self,X,y):\n",
    "        ydiff = y-self.predict_proba(X,add_bias=False).ravel() # get y difference\n",
    "        gradient = np.mean(X * ydiff[:,np.newaxis], axis=0) # make ydiff a column vector and multiply through\n",
    "        gradient = gradient.reshape(self.w_.shape)\n",
    "        \n",
    "        if (self.reg_method=='L1'):\n",
    "            gradient[1:] += -1 * self.C * (self.w_[1:]/abs(self.w_[1:])) \n",
    "        elif (self.reg_method=='L2'):\n",
    "            gradient[1:] += -2 * self.w_[1:] * self.C\n",
    "        elif (self.reg_method=='Both'):\n",
    "            gradient[1:] += -1 * self.C * (self.w_[1:]/abs(self.w_[1:])) + -2 * self.w_[1:] * self.C\n",
    "        else:\n",
    "            gradient[1:] = gradient[1:] \n",
    "        return gradient\n",
    "\n",
    "    # public:\n",
    "    def predict_proba(self,X,add_bias=True):\n",
    "        # add bias term if requested\n",
    "        Xb = self._add_bias(X) if add_bias else X\n",
    "        return self._sigmoid(Xb @ self.w_) # return the probability y=1\n",
    "\n",
    "    def predict(self,X):\n",
    "        return (self.predict_proba(X)>0.5) #return the actual prediction\n",
    "\n",
    "    def fit(self, X, y):\n",
    "        Xb = self._add_bias(X) # add bias term\n",
    "        num_samples, num_features = Xb.shape\n",
    "        self.w_ = np.ones((num_features,1))\n",
    "        # for as many as the max iterations\n",
    "        for _ in range(self.iters):\n",
    "            gradient = self._get_gradient(Xb,y)\n",
    "            self.w_ += gradient*self.eta # multiply by learning rate \n"
   ]
  },
  {
   "cell_type": "code",
   "execution_count": 9,
   "metadata": {
    "collapsed": false,
    "jupyter": {
     "outputs_hidden": false
    }
   },
   "outputs": [],
   "source": [
    "class LineSearchLogisticRegression(BinaryLogisticRegression):\n",
    "    \n",
    "    # define custom line search for problem\n",
    "    @staticmethod\n",
    "    def line_search_function(eta,X,y,w,grad,C,reg_method):\n",
    "        wnew = w - grad*eta\n",
    "        g = expit(X @ wnew)\n",
    "        if (reg_method=='L1'):\n",
    "            return -np.sum(np.log(g[y==1]))-np.sum(np.log(1-g[y==0])) + C*sum(abs(wnew)) \n",
    "        elif (reg_method=='L2'):\n",
    "            return -np.sum(np.log(g[y==1]))-np.sum(np.log(1-g[y==0])) + C*sum(wnew**2)\n",
    "        elif (reg_method=='Both'):\n",
    "            return np.sum(np.log(g[y==1]))-np.sum(np.log(1-g[y==0])) + C*sum(wnew**2) + C*sum(abs(wnew)) \n",
    "        else:\n",
    "            return -np.sum(np.log(g[y==1]))-np.sum(np.log(1-g[y==0]))\n",
    "        \n",
    "    def fit(self, X, y):\n",
    "        Xb = self._add_bias(X) # add bias term\n",
    "        num_samples, num_features = Xb.shape\n",
    "        \n",
    "        self.w_ = np.ones((num_features,1)) # init weight vector to ones\n",
    "        \n",
    "        # for as many as the max iterations\n",
    "        for _ in range(self.iters):\n",
    "            gradient = self._get_gradient(Xb,y)\n",
    "            \n",
    "            # do line search in gradient direction, using scipy function\n",
    "            opts = {'maxiter':self.iters/20} # unclear exactly what this should be\n",
    "            res = minimize_scalar(self.line_search_function, # objective function to optimize\n",
    "                                  bounds=(self.eta/1000,self.eta*10), #bounds to optimize\n",
    "                                  args=(Xb,y,self.w_,gradient,self.C, self.reg_method),\n",
    "                                  method='bounded', # bounded optimization for speed\n",
    "                                  options=opts) # set max iterations\n",
    "            \n",
    "            eta = res.x # get optimal learning rate\n",
    "            self.w_ += gradient*eta # set new function values"
   ]
  },
  {
   "cell_type": "code",
   "execution_count": 10,
   "metadata": {
    "collapsed": false,
    "jupyter": {
     "outputs_hidden": false
    }
   },
   "outputs": [],
   "source": [
    "class StochasticLogisticRegression(BinaryLogisticRegression):\n",
    "    # stochastic gradient calculation \n",
    "    def _get_gradient(self,X,y):\n",
    "        idx = int(np.random.rand()*len(y)) # grab random instance\n",
    "        ydiff = y[idx]-self.predict_proba(X[idx],add_bias=False) # get y difference (now scalar)\n",
    "        gradient = X[idx] * ydiff[:,np.newaxis] # make ydiff a column vector and multiply through\n",
    "\n",
    "        gradient = gradient.reshape(self.w_.shape)\n",
    "        if (self.reg_method=='L1'):\n",
    "            gradient[1:] += -1 * self.C * (self.w_[1:]/abs(self.w_[1:])) \n",
    "        elif (self.reg_method=='L2'):\n",
    "            gradient[1:] += -2 * self.w_[1:] * self.C\n",
    "        elif (self.reg_method=='Both'):\n",
    "            gradient[1:] += -1 * self.C * (self.w_[1:]/abs(self.w_[1:])) + -2 * self.w_[1:] * self.C\n",
    "        else:\n",
    "            gradient[1:] = gradient[1:] \n",
    "            \n",
    "        return gradient"
   ]
  },
  {
   "cell_type": "code",
   "execution_count": 11,
   "metadata": {
    "collapsed": false,
    "jupyter": {
     "outputs_hidden": false
    }
   },
   "outputs": [],
   "source": [
    "class BFGSLogisticRegression(BinaryLogisticRegression):\n",
    "\n",
    "    @staticmethod\n",
    "    def objective_function(w,X,y,C,reg_method):\n",
    "        g = expit(X @ w)\n",
    "        if (reg_method=='L1'):\n",
    "            return -np.sum(np.log(g[y==1]))-np.sum(np.log(1-g[y==0])) + C*sum(abs(w))  \n",
    "        elif (reg_method=='L2'):\n",
    "            return -np.sum(np.log(g[y==1]))-np.sum(np.log(1-g[y==0])) + C*sum(w**2)\n",
    "        elif (reg_method=='Both'):\n",
    "            return -np.sum(np.log(g[y==1]))-np.sum(np.log(1-g[y==0])) + C*sum(abs(w)) + C*sum(w**2)  \n",
    "        else:\n",
    "            return -np.sum(np.log(g[y==1]))-np.sum(np.log(1-g[y==0]))\n",
    "    @staticmethod\n",
    "    def objective_gradient(w,X,y,C,reg_method):\n",
    "        g = expit(X @ w)\n",
    "        ydiff = y-g # get y difference\n",
    "        gradient = np.mean(X * ydiff[:,np.newaxis], axis=0)\n",
    "        gradient = gradient.reshape(w.shape)\n",
    "        if (reg_method=='L1'):\n",
    "            gradient[1:] += -1 * C * (w[1:]/abs(w[1:])) \n",
    "        elif (reg_method=='L2'):\n",
    "            gradient[1:] += -2 * w[1:] * C\n",
    "        elif (reg_method=='Both'):\n",
    "            gradient[1:] += -2 * w[1:] * C + -1 * C * (w[1:]/abs(w[1:])) \n",
    "        else:\n",
    "            gradient[1:] = gradient[1:] \n",
    "        return -gradient\n",
    "\n",
    "    # just overwrite fit function\n",
    "    def fit(self, X, y):\n",
    "        Xb = self._add_bias(X) # add bias term\n",
    "        num_samples, num_features = Xb.shape\n",
    "\n",
    "        self.w_ = fmin_bfgs(self.objective_function, # what to optimize\n",
    "                            np.ones((num_features,1)), # starting point\n",
    "                            fprime=self.objective_gradient, # gradient function\n",
    "                            args=(Xb,y,self.C, self.reg_method), # extra args for gradient and objective function\n",
    "                            gtol=1e-03, # stopping criteria for gradient, |v_k|\n",
    "                            maxiter=self.iters, # stopping criteria iterations\n",
    "                            disp=False)\n",
    "\n",
    "        self.w_ = self.w_.reshape((num_features,1))"
   ]
  },
  {
   "cell_type": "code",
   "execution_count": 12,
   "metadata": {
    "collapsed": false,
    "jupyter": {
     "outputs_hidden": false
    }
   },
   "outputs": [],
   "source": [
    "class MultiClassLogisticRegression:\n",
    "    def __init__(self, eta, iterations=20, C=0.0001, opt_method='null', reg_method='null'):\n",
    "        self.eta = eta\n",
    "        self.iters = iterations\n",
    "        self.C = C\n",
    "        self.opt_method = opt_method\n",
    "        self.reg_method = reg_method\n",
    "        self.classifiers_ = []\n",
    "        # internally we will store the weights as self.w_ to keep with sklearn conventions\n",
    "\n",
    "    def __str__(self):\n",
    "        if(hasattr(self,'w_')):\n",
    "            return 'MultiClass Logistic Regression Object with coefficients:\\n'+ str(self.w_)\n",
    "        else:\n",
    "            return 'Untrained MultiClass Logistic Regression Object'\n",
    "\n",
    "    def fit(self,X,y):\n",
    "        num_samples, num_features = X.shape\n",
    "        self.unique_ = np.sort(np.unique(y)) # get each unique class value\n",
    "        num_unique_classes = len(self.unique_)\n",
    "        self.classifiers_ = [] # will fill this array with binary classifiers\n",
    "\n",
    "        for i,yval in enumerate(self.unique_): # for each unique value\n",
    "            y_binary = y==yval # create a binary problem\n",
    "            # train the binary classifier for this class\n",
    "            if(self.opt_method=='sd'):\n",
    "                blr = LineSearchLogisticRegression(self.eta,self.iters,self.C,self.reg_method)\n",
    "            elif(self.opt_method=='sgd'):\n",
    "                blr = StochasticLogisticRegression(self.eta,self.iters,self.C, self.reg_method)\n",
    "            elif(self.opt_method=='bfgs'):\n",
    "                blr = BFGSLogisticRegression(self.eta,self.iters,self.C, self.reg_method)\n",
    "            else:\n",
    "                print('Error: Optimization Method Not Found')\n",
    "                return\n",
    "            blr.fit(X,y_binary)\n",
    "            # add the trained classifier to the list\n",
    "            self.classifiers_.append(blr)\n",
    "\n",
    "        # save all the weights into one matrix, separate column for each class\n",
    "        self.w_ = np.hstack([x.w_ for x in self.classifiers_]).T\n",
    "\n",
    "    def predict_proba(self,X):\n",
    "        probs = []\n",
    "        for blr in self.classifiers_:\n",
    "            probs.append(blr.predict_proba(X)) # get probability for each classifier\n",
    "\n",
    "        return np.hstack(probs) # make into single matrix\n",
    "\n",
    "    def predict(self,X):\n",
    "        return np.argmax(self.predict_proba(X),axis=1) # take argmax along row\n"
   ]
  },
  {
   "cell_type": "markdown",
   "metadata": {},
   "source": [
    "Steepest Descent"
   ]
  },
  {
   "cell_type": "code",
   "execution_count": 13,
   "metadata": {
    "collapsed": false,
    "jupyter": {
     "outputs_hidden": false
    }
   },
   "outputs": [
    {
     "name": "stdout",
     "output_type": "stream",
     "text": [
      "Accuracy of:  0.5565134099616859\n"
     ]
    }
   ],
   "source": [
    "lr = MultiClassLogisticRegression(0.01,iterations=50, C=0.001, opt_method='sd', reg_method='L1')\n",
    "lr.fit(data,target)\n",
    "\n",
    "prediction = lr.predict(data)\n",
    "print('Accuracy of: ',accuracy_score(target,prediction))"
   ]
  },
  {
   "cell_type": "markdown",
   "metadata": {},
   "source": [
    "Stochastic Gradient Descent"
   ]
  },
  {
   "cell_type": "code",
   "execution_count": 14,
   "metadata": {
    "collapsed": false,
    "jupyter": {
     "outputs_hidden": false
    }
   },
   "outputs": [
    {
     "name": "stdout",
     "output_type": "stream",
     "text": [
      "Accuracy of:  0.6216475095785441\n"
     ]
    }
   ],
   "source": [
    "lr = MultiClassLogisticRegression(0.01,iterations=2000,C=0.001, opt_method='sgd', reg_method='L2')\n",
    "lr.fit(data,target)\n",
    "\n",
    "prediction = lr.predict(data)\n",
    "print('Accuracy of: ',accuracy_score(target,prediction))"
   ]
  },
  {
   "cell_type": "markdown",
   "metadata": {},
   "source": [
    "Newton's Method"
   ]
  },
  {
   "cell_type": "code",
   "execution_count": 15,
   "metadata": {
    "collapsed": false,
    "jupyter": {
     "outputs_hidden": false
    }
   },
   "outputs": [
    {
     "name": "stdout",
     "output_type": "stream",
     "text": [
      "Accuracy of:  0.6408045977011494\n"
     ]
    }
   ],
   "source": [
    "lr = MultiClassLogisticRegression(_,iterations=50,C=0.001, opt_method='bfgs', reg_method='Both')\n",
    "lr.fit(data,target)\n",
    "\n",
    "prediction = lr.predict(data)\n",
    "print('Accuracy of: ',accuracy_score(target,prediction))"
   ]
  },
  {
   "cell_type": "markdown",
   "metadata": {},
   "source": [
    "<em>\n",
    "    <strong>[15 points]</strong> Train your classifier to achieve good generalization performance. That is, adjust the optimization technique and the value of the regularization term \"C\" to achieve the best performance on your test set. Visualize the performance of the classifier versus the parameters you investigated. Is your method of selecting parameters justified? That is, do you think there is any \"data snooping\" involved with this method of selecting parameters?\n",
    "</em>"
   ]
  },
  {
   "cell_type": "code",
   "execution_count": 16,
   "metadata": {
    "collapsed": false,
    "jupyter": {
     "outputs_hidden": false
    }
   },
   "outputs": [],
   "source": [
    "def plot_gallery(c_values):\n",
    "    plt.figure(figsize=(14,12))\n",
    "    count = 0\n",
    "    for i in range(12):\n",
    "        count = count + 1\n",
    "        plt.subplot(3,4,i+1)\n",
    "        if count == 1 :\n",
    "            plt.title('None')\n",
    "            if i == 0:\n",
    "                plt.ylabel('Steepest Descent')\n",
    "            elif i == 4:\n",
    "                plt.ylabel('Stochastic Gradient Descent')\n",
    "            else: \n",
    "                plt.ylabel('Newton\\'s Method')\n",
    "        elif count == 2:\n",
    "            plt.title('L1')\n",
    "        elif count == 3:\n",
    "            plt.title('L2')\n",
    "        else:\n",
    "            count = 0\n",
    "            plt.title('Both')\n",
    "        graph_c_values(c_values[i])\n",
    "\n",
    "def graph_c_values(arr):\n",
    "    plt.plot(arr[:,0],arr[:,1])\n",
    "\n",
    "def calculate_c_values(eta, iterations, opt_method, reg_method):\n",
    "    arr = np.array([[-1,-1]])\n",
    "    step_count = 1000\n",
    "    for i in range(step_count):\n",
    "        C = (i / step_count) * 0.4\n",
    "        lr = MultiClassLogisticRegression(eta,iterations, C, opt_method, reg_method)\n",
    "        lr.fit(data,target) # reference to global variables\n",
    "        prediction = lr.predict(data)\n",
    "        accuracy = accuracy_score(target,prediction)\n",
    "        arr = np.append(arr, [[C, accuracy]], axis=0)\n",
    "    return arr[1:] # Removes initialization term"
   ]
  },
  {
   "cell_type": "code",
   "execution_count": 17,
   "metadata": {
    "collapsed": false,
    "jupyter": {
     "outputs_hidden": false
    }
   },
   "outputs": [
    {
     "name": "stdout",
     "output_type": "stream",
     "text": [
      "CPU times: user 2h 35min 50s, sys: 3min 52s, total: 2h 39min 42s\n",
      "Wall time: 40min 31s\n"
     ]
    }
   ],
   "source": [
    "%%time\n",
    "\n",
    "sns.set(style='darkgrid')\n",
    "\n",
    "eta = 0.001\n",
    "iterations = 50\n",
    "c_values = []\n",
    "c_values.append(calculate_c_values(eta, iterations, 'sd', 'None'))\n",
    "c_values.append(calculate_c_values(eta, iterations, 'sd', 'L1'))\n",
    "c_values.append(calculate_c_values(eta, iterations, 'sd', 'L2'))\n",
    "c_values.append(calculate_c_values(eta, iterations, 'sd', 'Both'))\n",
    "c_values.append(calculate_c_values(eta, iterations*20, 'sgd', 'None'))\n",
    "c_values.append(calculate_c_values(eta, iterations*20, 'sgd', 'L1'))\n",
    "c_values.append(calculate_c_values(eta, iterations*20, 'sgd', 'L2'))\n",
    "c_values.append(calculate_c_values(eta, iterations*20, 'sgd', 'Both'))\n",
    "c_values.append(calculate_c_values(eta, iterations, 'bfgs', 'None'))\n",
    "c_values.append(calculate_c_values(eta, iterations, 'bfgs', 'L1'))\n",
    "c_values.append(calculate_c_values(eta, iterations, 'bfgs', 'L2'))\n",
    "c_values.append(calculate_c_values(eta, iterations, 'bfgs', 'Both'))"
   ]
  },
  {
   "cell_type": "code",
   "execution_count": 18,
   "metadata": {
    "collapsed": false,
    "jupyter": {
     "outputs_hidden": false
    }
   },
   "outputs": [
    {
     "data": {
      "image/png": "[encoded data removed]"
     },
     "execution_count": 18,
     "metadata": {},
     "output_type": "execute_result"
    }
   ],
   "source": [
    "plot_gallery(c_values)"
   ]
  },
  {
   "cell_type": "markdown",
   "metadata": {},
   "source": [
    "After running each optimization method with each regularization, we determined that Newton's method without a regularization (a C value equal to 0) is most accurate in classification. Undoubtedly, we believe we went through sufficient measures to select the best optimization and regularization method for classification. Additionally, We found that low values of C didn't really effect our steepest descent optimization, but unfortunately, its accuracy never neared that of Newton's method. The X-labels for each graph represents the C values. The Y-labels for each graph represents the accuracy score"
   ]
  },
  {
   "cell_type": "code",
   "execution_count": 21,
   "metadata": {
    "collapsed": false,
    "jupyter": {
     "outputs_hidden": false
    }
   },
   "outputs": [],
   "source": [
    "num_cv_iterations = 10\n",
    "num_instances = len(df)\n",
    "cv_object = ShuffleSplit(\n",
    "                         n_splits=num_cv_iterations,\n",
    "                         test_size  = 0.2\n",
    ")"
   ]
  },
  {
   "cell_type": "code",
   "execution_count": 54,
   "metadata": {
    "collapsed": false,
    "jupyter": {
     "outputs_hidden": false
    }
   },
   "outputs": [
    {
     "name": "stdout",
     "output_type": "stream",
     "text": [
      "Iteration 1 - Accuracy of: 0.6220095693779905\n",
      "\n",
      "Iteration 2 - Accuracy of: 0.6602870813397129\n",
      "\n",
      "Iteration 3 - Accuracy of: 0.6650717703349283\n",
      "\n",
      "Iteration 4 - Accuracy of: 0.6650717703349283\n",
      "\n",
      "Iteration 5 - Accuracy of: 0.645933014354067\n",
      "\n",
      "Iteration 6 - Accuracy of: 0.5933014354066986\n",
      "\n",
      "Iteration 7 - Accuracy of: 0.6411483253588517\n",
      "\n",
      "Iteration 8 - Accuracy of: 0.631578947368421\n",
      "\n",
      "Iteration 9 - Accuracy of: 0.6076555023923444\n",
      "\n",
      "Iteration 10 - Accuracy of: 0.6411483253588517\n",
      "\n",
      "Average Accuracy of our best logistic regression implementation: 0.6373205741626794\n",
      "CPU times: user 4.33 s, sys: 5.93 s, total: 10.3 s\n",
      "Wall time: 10.6 s\n"
     ]
    }
   ],
   "source": [
    "%%time\n",
    "\n",
    "split_count = 0\n",
    "accuracies = np.array([])\n",
    "for train_indices, test_indices in cv_object.split(data,target): \n",
    "    split_count = split_count + 1\n",
    "    \n",
    "    data_train = data.loc[train_indices]\n",
    "    target_train = target.loc[train_indices]\n",
    "    \n",
    "    data_test = data.loc[test_indices]\n",
    "    target_test = target.loc[test_indices]\n",
    "    \n",
    "    lr = MultiClassLogisticRegression(_, iterations=1000, C=0, opt_method='bfgs', reg_method='Both')\n",
    "    lr.fit(data, target) \n",
    "\n",
    "    prediction = lr.predict(data_test)\n",
    "    accuracy = accuracy_score(target_test,prediction)\n",
    "    accuracies = np.append(accuracies, accuracy)\n",
    "    \n",
    "    print('Iteration', split_count,'- Accuracy of:', accuracy)\n",
    "    print()\n",
    "    \n",
    "print('Average Accuracy of our best logistic regression implementation:', np.mean(accuracies))"
   ]
  },
  {
   "cell_type": "markdown",
   "metadata": {},
   "source": [
    "In ten iterations of shuffling our data into either training or testing and running a logistic regression clasifier, we found our average percentage to be about xx taking a total of yy seconds."
   ]
  },
  {
   "cell_type": "markdown",
   "metadata": {},
   "source": [
    "<em>\n",
    "    <strong>[15 points]</strong> Compare the performance of your \"best\" logistic regression optimization procedure to the procedure used in scikit-learn. Visualize the performance differences in terms of training time and classification performance. Discuss the results. \n",
    "</em>"
   ]
  },
  {
   "cell_type": "code",
   "execution_count": 38,
   "metadata": {
    "collapsed": false,
    "jupyter": {
     "outputs_hidden": false
    }
   },
   "outputs": [
    {
     "name": "stdout",
     "output_type": "stream",
     "text": [
      "Iteration 1 - Accuracy of: 0.5980861244019139\n",
      "\n",
      "Iteration 2 - Accuracy of: 0.6028708133971292\n",
      "\n",
      "Iteration 3 - Accuracy of: 0.6411483253588517\n",
      "\n",
      "Iteration 4 - Accuracy of: 0.6555023923444976\n",
      "\n",
      "Iteration 5 - Accuracy of: 0.6602870813397129\n",
      "\n",
      "Iteration 6 - Accuracy of: 0.6555023923444976\n",
      "\n",
      "Iteration 7 - Accuracy of: 0.6555023923444976\n",
      "\n",
      "Iteration 8 - Accuracy of: 0.6746411483253588\n",
      "\n",
      "Iteration 9 - Accuracy of: 0.6985645933014354\n",
      "\n",
      "Iteration 10 - Accuracy of: 0.6698564593301436\n",
      "\n",
      "Average Accuracy of scikit-learn: 0.651196172248804\n",
      "CPU times: user 130 ms, sys: 13.5 ms, total: 143 ms\n",
      "Wall time: 182 ms\n"
     ]
    }
   ],
   "source": [
    "%%time\n",
    "\n",
    "split_count = 0\n",
    "accuracies = np.array([])\n",
    "for train_indices, test_indices in cv_object.split(data,target): \n",
    "    split_count = split_count + 1\n",
    "    \n",
    "    data_train = data.loc[train_indices]\n",
    "    target_train = target.loc[train_indices]\n",
    "    \n",
    "    data_test = data.loc[test_indices]\n",
    "    target_test = target.loc[test_indices]\n",
    "    \n",
    "    lr_sk = LogisticRegression(solver='liblinear') \n",
    "    lr_sk.fit(data_train, target_train) \n",
    "\n",
    "    prediction = lr_sk.predict(data_test)\n",
    "    accuracy = accuracy_score(target_test,prediction)\n",
    "    accuracies = np.append(accuracies, accuracy)\n",
    "    \n",
    "    print('Iteration', split_count,'- Accuracy of:', accuracy)\n",
    "    print()\n",
    "    \n",
    "print('Average Accuracy of scikit-learn:', np.mean(accuracies))"
   ]
  },
  {
   "cell_type": "markdown",
   "metadata": {},
   "source": [
    "#### Speed Test"
   ]
  },
  {
   "cell_type": "code",
   "execution_count": 32,
   "metadata": {
    "collapsed": false,
    "jupyter": {
     "outputs_hidden": false
    }
   },
   "outputs": [
    {
     "name": "stdout",
     "output_type": "stream",
     "text": [
      "Accuracy of:  0.6417624521072797\n",
      "CPU times: user 624 ms, sys: 903 ms, total: 1.53 s\n",
      "Wall time: 1.52 s\n"
     ]
    }
   ],
   "source": [
    "%%time\n",
    "lr = MultiClassLogisticRegression(_, iterations=1000, C=0, opt_method='bfgs', reg_method='Both')\n",
    "lr.fit(data, target) \n",
    "\n",
    "prediction = lr.predict(data)\n",
    "print('Accuracy of: ',accuracy_score(target,prediction))"
   ]
  },
  {
   "cell_type": "code",
   "execution_count": 36,
   "metadata": {
    "collapsed": false,
    "jupyter": {
     "outputs_hidden": false
    }
   },
   "outputs": [
    {
     "name": "stdout",
     "output_type": "stream",
     "text": [
      "Accuracy of:  0.6388888888888888\n",
      "CPU times: user 13.9 ms, sys: 1.62 ms, total: 15.5 ms\n",
      "Wall time: 19.7 ms\n"
     ]
    }
   ],
   "source": [
    "%%time\n",
    "lr_sk = LogisticRegression(solver='liblinear') \n",
    "lr_sk.fit(data, target) \n",
    "\n",
    "prediction = lr_sk.predict(data)\n",
    "print('Accuracy of: ',accuracy_score(target,prediction))"
   ]
  },
  {
   "cell_type": "markdown",
   "metadata": {},
   "source": [
    "As you can see in the above cells, we made each implementation of logistic regression go through ten iterations of training and testing. Then we took the accuracy mean of each implementation and compared them to each other. We found out our implementation of multi-class logistic regression is a little bit more accurate than scikit-learn's liblinear logistic regression. Yet as you can in our speed test, scikit-learn's implementation is nearly 77 times faster than our implementation."
   ]
  },
  {
   "cell_type": "markdown",
   "metadata": {},
   "source": [
    "## Deployment (10 points total)\n",
    "<em>\n",
    "Which implementation of logistic regression would you advise be used in a deployed machine learning model, your implementation or scikit-learn (or other third party)? Why?\n",
    "</em>"
   ]
  },
  {
   "cell_type": "markdown",
   "metadata": {},
   "source": [
    "Although our implementation of logistic regression is slightly more accurate than scikit-learn's, our runtime speed is extremely slow. This reduction in speed is largely a result of the number of iteration steps our program has to take as it approaches the optimal weight vector. On the other hand, scikit-learn takes only one step to reach the optimal weight vector while maintaining a high accuracy. As mentioned before, scikit-learn's implementation runs 77 times faster than our own logistic regression. However, in the eyes of a school, speed would actually play less of an importance than accuracy. This is because a school would never really have to run this type of program online, and instead, could run the implementation offline in the beginning of the year for upcoming students. Thus, in selecting our most optimized version of logistic regression, a school would be best prepared to reach out to students most in need of academic support. "
   ]
  },
  {
   "cell_type": "markdown",
   "metadata": {},
   "source": [
    "## Exceptional Work (10 points total)\n",
    "<em>\n",
    "Implement an optimization technique for logistic regression using mean square error as your objective function (instead of binary entropy). Your solution should be able to solve the binary logistic regression problem in one gradient update step.\n",
    "</em>"
   ]
  },
  {
   "cell_type": "code",
   "execution_count": 43,
   "metadata": {
    "collapsed": false,
    "jupyter": {
     "outputs_hidden": false
    }
   },
   "outputs": [],
   "source": [
    "class OptimizedBinaryLogisticRegression:\n",
    "    def __init__(self, eta, iterations=20, C=0.001):\n",
    "        self.eta = eta\n",
    "        self.iters = iterations\n",
    "        self.C = C\n",
    "        # internally we will store the weights as self.w_ to keep with sklearn conventions\n",
    "\n",
    "    def __str__(self):\n",
    "        if(hasattr(self,'w_')):\n",
    "            return 'Binary Logistic Regression Object with coefficients:\\n'+ str(self.w_)\n",
    "        else:\n",
    "            return 'Untrained Binary Logistic Regression Object'\n",
    "\n",
    "    # convenience, private:\n",
    "    @staticmethod\n",
    "    def _add_bias(X):\n",
    "        return np.hstack((np.ones((X.shape[0],1)),X)) # add bias term\n",
    "\n",
    "    @staticmethod\n",
    "    def _sigmoid(theta):\n",
    "        # increase stability, redefine sigmoid operation\n",
    "        return expit(theta)\n",
    "    # vectorized gradient calculation with regularization using L2 Norm\n",
    "    def _get_gradient(self,X,y):\n",
    "        ydiff = y-self.predict_proba(X,add_bias=False).ravel() # get y difference\n",
    "        gradient = np.mean(X * ydiff[:,np.newaxis], axis=0) # make ydiff a column vector and multiply through\n",
    "\n",
    "        gradient = gradient.reshape(self.w_.shape)\n",
    "        gradient[1:] += -2 * self.w_[1:] * self.C\n",
    "        return gradient\n",
    "\n",
    "    # public:\n",
    "    def predict_proba(self,X,add_bias=True):\n",
    "        # add bias term if requested\n",
    "        Xb = self._add_bias(X) if add_bias else X\n",
    "        return self._sigmoid(Xb @ self.w_) # return the probability y=1\n",
    "\n",
    "    def predict(self,X):\n",
    "        return (self.predict_proba(X)>0.5) #return the actual prediction\n",
    "\n",
    "    def fit(self, X, y):\n",
    "        Xb = self._add_bias(X) # add bias term\n",
    "        num_samples, num_features = Xb.shape\n",
    "        self.w_ = np.zeros((num_features,1)) # init weight vector to zeros\n",
    "        # for as many as the max iterations\n",
    "        for _ in range(self.iters):\n",
    "            gradient = self._get_gradient(Xb,y)\n",
    "            self.w_ += gradient*self.eta # multiply by learning rate \n"
   ]
  },
  {
   "cell_type": "markdown",
   "metadata": {},
   "source": [
    "We will change the objective function by changing the derivate very partially and then implement it.\n",
    "When we use mean squared error, our solution should be able to solve binary logistic regression with mean squared error in one gradient step. \n",
    "There is a closed form solution for mean squared error for logistic regression so close to something we have already done"
   ]
  },
  {
   "cell_type": "code",
   "execution_count": 66,
   "metadata": {
    "collapsed": false,
    "jupyter": {
     "outputs_hidden": false
    }
   },
   "outputs": [],
   "source": [
    "class OptimizedBFGSLogisticRegression(OptimizedBinaryLogisticRegression):\n",
    "\n",
    "    @staticmethod\n",
    "    def objective_function(w,X,y,C):\n",
    "        g = expit(X @ w)\n",
    "        return -np.sum(np.log(g[y==1]))-np.sum(np.log(1-g[y==0])) + C*sum(w**2)\n",
    "\n",
    "    @staticmethod\n",
    "    def objective_gradient(w,X,y,C):\n",
    "        g = expit(X @ w)\n",
    "        ydiff = y-g # get y difference\n",
    "        gradient = np.mean(X * ydiff[:,np.newaxis], axis=0)\n",
    "#         gradient = np.mean(mean_squared_error(X, ydiff[:,np.newaxis])) tried implementing this but it didn't work \n",
    "        gradient = gradient.reshape(w.shape)\n",
    "        gradient[1:] += -2 * w[1:] * C\n",
    "\n",
    "        return -gradient\n",
    "\n",
    "    # just overwrite fit function\n",
    "    def fit(self, X, y):\n",
    "        Xb = self._add_bias(X) # add bias term\n",
    "        num_samples, num_features = Xb.shape\n",
    "\n",
    "        self.w_ = fmin_bfgs(self.objective_function, # what to optimize\n",
    "                            np.ones((num_features,1)), # starting point\n",
    "                            fprime=self.objective_gradient, # gradient function\n",
    "                            args=(Xb,y,self.C), # extra args for gradient and objective function\n",
    "                            gtol=1e-03, # stopping criteria for gradient, |v_k|\n",
    "                            maxiter=self.iters, # stopping criteria iterations\n",
    "                            disp=False)\n",
    "\n",
    "        self.w_ = self.w_.reshape((num_features,1))"
   ]
  },
  {
   "cell_type": "code",
   "execution_count": 67,
   "metadata": {
    "collapsed": false,
    "jupyter": {
     "outputs_hidden": false
    }
   },
   "outputs": [
    {
     "name": "stdout",
     "output_type": "stream",
     "text": [
      "Accuracy of:  0.5478927203065134\n"
     ]
    }
   ],
   "source": [
    "bfgslr = OptimizedBFGSLogisticRegression(_,10,C=0.001)\n",
    "\n",
    "bfgslr.fit(data, target)\n",
    "yhat = bfgslr.predict(data)\n",
    "print('Accuracy of: ',accuracy_score(target,yhat))"
   ]
  }
 ],
 "metadata": {
  "kernelspec": {
   "display_name": "Python 3",
   "language": "python",
   "name": "python3"
  },
  "language_info": {
   "codemirror_mode": {
    "name": "ipython",
    "version": 3
   },
   "file_extension": ".py",
   "mimetype": "text/x-python",
   "name": "python",
   "nbconvert_exporter": "python",
   "pygments_lexer": "ipython3",
   "version": "3.7.7"
  }
 },
 "nbformat": 4,
 "nbformat_minor": 4
}
