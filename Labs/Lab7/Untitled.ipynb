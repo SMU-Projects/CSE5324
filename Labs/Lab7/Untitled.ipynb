{
 "cells": [
  {
   "cell_type": "code",
   "execution_count": 3,
   "metadata": {},
   "outputs": [
    {
     "name": "stdout",
     "output_type": "stream",
     "text": [
      "[1, 2, 3, 4, 5, 6, 12, 12, 13, 14, 11, 1, 2, -2, 44, 100]\n",
      "The average value is 13.411764705882353\n",
      "The minimim value is -2\n",
      "The maximum value is 100\n"
     ]
    }
   ],
   "source": [
    "# Convert Commandline Input to numbers list\n",
    "numbers = sys.argv[1:]\n",
    "\n",
    "# Imports\n",
    "import threading\n",
    "\n",
    "# Global Variables\n",
    "average = 0\n",
    "minimum = numbers[0]\n",
    "maximum = numbers[0]\n",
    "\n",
    "# Function Declarations\n",
    "def calculate_average(numbers):\n",
    "    global average\n",
    "    for num in numbers:\n",
    "        average = average + num\n",
    "    average = average / len(numbers)\n",
    "\n",
    "def calculate_minimum(numbers):\n",
    "    global minimum\n",
    "    for num in numbers:\n",
    "        if minimum > num:\n",
    "            minimum = num\n",
    "\n",
    "def calculate_maximum(numbers):\n",
    "    global maximum\n",
    "    for num in numbers:\n",
    "        if maximum < num:\n",
    "            maximum = num\n",
    "\n",
    "x1 = threading.Thread(target=calculate_average(numbers), args=(1,))\n",
    "x1.start()\n",
    "x2 = threading.Thread(target=calculate_minimum(numbers), args=(1,))\n",
    "x2.start()\n",
    "x3 = threading.Thread(target=calculate_maximum(numbers), args=(1,))\n",
    "x3.start()\n",
    "\n",
    "x1.join()\n",
    "x2.join()\n",
    "x3.join()\n",
    "\n",
    "print('The average value is', average)\n",
    "print('The minimim value is', minimum)\n",
    "print('The maximum value is', maximum)"
   ]
  },
  {
   "cell_type": "code",
   "execution_count": null,
   "metadata": {},
   "outputs": [],
   "source": []
  }
 ],
 "metadata": {
  "kernelspec": {
   "display_name": "Python 3",
   "language": "python",
   "name": "python3"
  },
  "language_info": {
   "codemirror_mode": {
    "name": "ipython",
    "version": 3
   },
   "file_extension": ".py",
   "mimetype": "text/x-python",
   "name": "python",
   "nbconvert_exporter": "python",
   "pygments_lexer": "ipython3",
   "version": "3.6.5"
  }
 },
 "nbformat": 4,
 "nbformat_minor": 2
}
