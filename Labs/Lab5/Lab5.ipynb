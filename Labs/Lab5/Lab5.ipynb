{
 "cells": [
  {
   "cell_type": "markdown",
   "metadata": {},
   "source": [
    "# Lab Five: Wide and Deep Networks\n",
    "\n",
    "#### Machine Learning in Python\n",
    "    \n",
    "Will Lacey - 45906124 - <strong>CSE7324</strong>\n",
    "<br>\n",
    "Roger Wong - 43867412 - <strong>CSE5324</strong>"
   ]
  },
  {
   "cell_type": "markdown",
   "metadata": {},
   "source": [
    "## Preparation (40 points total)\n",
    "<em>\n",
    "    <strong>[10 points]</strong> Define and prepare your class variables. Use proper variable representations (int, float, one-hot, etc.). Use pre-processing methods (as needed) for dimensionality reduction, scaling, etc. Remove variables that are not needed/useful for the analysis. Describe the final dataset that is used for classification/regression (include a description of any newly formed variables you created). \n",
    "</em>"
   ]
  },
  {
   "cell_type": "code",
   "execution_count": 30,
   "metadata": {
    "collapsed": false,
    "jupyter": {
     "outputs_hidden": false
    }
   },
   "outputs": [],
   "source": [
    "import pandas as pd\n",
    "import numpy as np\n",
    "import matplotlib.pyplot as plt\n",
    "import seaborn as sns\n",
    "sns.set(style='darkgrid')\n",
    "\n",
    "from copy import deepcopy\n",
    "\n",
    "import keras\n",
    "from keras.models import Model\n",
    "from keras.models import Sequential\n",
    "from keras.layers import Dense, Activation, Input, Dropout\n",
    "from keras.layers import Embedding, Flatten, Concatenate\n",
    "from keras.layers import concatenate\n",
    "from keras.utils import to_categorical\n",
    "\n",
    "from sklearn.decomposition import PCA\n",
    "from sklearn import metrics as mt\n",
    "from sklearn.metrics import roc_curve, auc\n",
    "from sklearn.metrics import recall_score, confusion_matrix\n",
    "from sklearn.neural_network import MLPClassifier\n",
    "from sklearn.model_selection import StratifiedShuffleSplit\n",
    "from sklearn.model_selection import StratifiedKFold, cross_val_score\n",
    "from sklearn.preprocessing import LabelEncoder\n",
    "from sklearn.preprocessing import StandardScaler\n",
    "from sklearn.preprocessing import OneHotEncoder\n",
    "\n",
    "import warnings\n",
    "warnings.simplefilter('ignore')"
   ]
  },
  {
   "cell_type": "code",
   "execution_count": 2,
   "metadata": {
    "collapsed": false,
    "jupyter": {
     "outputs_hidden": false
    }
   },
   "outputs": [
    {
     "name": "stdout",
     "output_type": "stream",
     "text": [
      "Succeeded to Open File.\n",
      "\n",
      "<class 'pandas.core.frame.DataFrame'>\n",
      "RangeIndex: 1044 entries, 0 to 1043\n",
      "Data columns (total 34 columns):\n",
      "school        1044 non-null object\n",
      "sex           1044 non-null object\n",
      "age           1044 non-null int64\n",
      "address       1044 non-null object\n",
      "famsize       1044 non-null object\n",
      "Pstatus       1044 non-null object\n",
      "Medu          1044 non-null int64\n",
      "Fedu          1044 non-null int64\n",
      "Mjob          1044 non-null object\n",
      "Fjob          1044 non-null object\n",
      "reason        1044 non-null object\n",
      "guardian      1044 non-null object\n",
      "traveltime    1044 non-null int64\n",
      "studytime     1044 non-null int64\n",
      "failures      1044 non-null int64\n",
      "schoolsup     1044 non-null object\n",
      "famsup        1044 non-null object\n",
      "paid          1044 non-null object\n",
      "activities    1044 non-null object\n",
      "nursery       1044 non-null object\n",
      "higher        1044 non-null object\n",
      "internet      1044 non-null object\n",
      "romantic      1044 non-null int64\n",
      "famrel        1044 non-null int64\n",
      "freetime      1044 non-null int64\n",
      "goout         1044 non-null int64\n",
      "Dalc          1044 non-null int64\n",
      "Walc          1044 non-null int64\n",
      "health        1044 non-null int64\n",
      "absences      1044 non-null int64\n",
      "G1            1044 non-null int64\n",
      "G2            1044 non-null int64\n",
      "G3            1044 non-null int64\n",
      "class         1044 non-null object\n",
      "dtypes: int64(17), object(17)\n",
      "memory usage: 277.4+ KB\n",
      "None\n"
     ]
    }
   ],
   "source": [
    "try:\n",
    "    df_mat = pd.read_csv('student-mat.csv') # read in the csv file\n",
    "    df_por = pd.read_csv('student-por.csv') # read in the csv file\n",
    "    df_mat['class'] = \"math\"\n",
    "    df_por['class'] = \"portuguese\"\n",
    "    df = pd.concat([df_mat, df_por], ignore_index=True)\n",
    "    print(\"Succeeded to Open File.\\n\")\n",
    "    df.romantic.replace(to_replace=['yes','no'], value=(0,1),inplace=True)\n",
    "    print(df.info()) \n",
    "    \n",
    "except IOError:\n",
    "    print(\"Failed to Open Files. Quitting Program.\")\n",
    "    sys.exit"
   ]
  },
  {
   "cell_type": "code",
   "execution_count": 3,
   "metadata": {
    "collapsed": false,
    "jupyter": {
     "outputs_hidden": false
    }
   },
   "outputs": [],
   "source": [
    "target = df[['G1', 'G2', 'G3']].mean(axis=1)\n",
    "target[(target < 10)] = 0\n",
    "target[(target >= 10)] = 1\n",
    "\n",
    "data = df.drop(\n",
    "    columns=[\n",
    "        'G1',\n",
    "        'G2',\n",
    "        'G3'\n",
    "])\n",
    "\n",
    "df_train = deepcopy(df)\n",
    "df_test = deepcopy(df)\n",
    "X = deepcopy(df)\n",
    "y = target"
   ]
  },
  {
   "cell_type": "code",
   "execution_count": 4,
   "metadata": {
    "collapsed": false,
    "jupyter": {
     "outputs_hidden": false
    }
   },
   "outputs": [],
   "source": [
    "col_names = df_train.columns.values\n",
    "\n",
    "sss = StratifiedShuffleSplit(n_splits=1, test_size=0.2, random_state=64)\n",
    "for train_idx, test_idx in sss.split(df_train.values, y.values):\n",
    "    # X_train - 80% training attribute set\n",
    "    # X_test - 20% test attribute set\n",
    "    # y_train - 80% training labels\n",
    "    # y_test - 20% training labels\n",
    "    X_train, X_test = pd.DataFrame(X.values[train_idx], columns=col_names), pd.DataFrame(X.values[test_idx], columns=col_names)\n",
    "    y_train, y_test = pd.DataFrame(y.values[train_idx], columns=[\"grades\"]), pd.DataFrame(y.values[test_idx], columns=[\"grades\"])\n",
    "\n",
    "y_train, y_test = y_train.values.flatten(), y_test.values.flatten()"
   ]
  },
  {
   "cell_type": "code",
   "execution_count": 5,
   "metadata": {
    "collapsed": false,
    "jupyter": {
     "outputs_hidden": false
    }
   },
   "outputs": [],
   "source": [
    "encoders = dict()\n",
    "categorical_headers = ['school','sex','address',\n",
    "                       'famsize','Pstatus','Mjob', 'Fjob','reason','guardian',\n",
    "                       'schoolsup','famsup', 'paid','activities','nursery',\n",
    "                       'higher','internet']\n"
   ]
  },
  {
   "cell_type": "code",
   "execution_count": 6,
   "metadata": {
    "collapsed": false,
    "jupyter": {
     "outputs_hidden": false
    }
   },
   "outputs": [],
   "source": [
    "for col in categorical_headers:\n",
    "    X_train[col] = X_train[col].str.strip()\n",
    "    X_test[col] = X_test[col].str.strip()\n",
    "\n",
    "    encoders[col] = LabelEncoder() # save the encoder\n",
    "    X_train[col+'_int'] = encoders[col].fit_transform(X_train[col])\n",
    "    X_test[col+'_int'] = encoders[col].transform(X_test[col])\n",
    "\n"
   ]
  },
  {
   "cell_type": "code",
   "execution_count": 7,
   "metadata": {
    "collapsed": false,
    "jupyter": {
     "outputs_hidden": false
    }
   },
   "outputs": [
    {
     "data": {
      "text/html": [
       "<div>\n",
       "<style scoped>\n",
       "    .dataframe tbody tr th:only-of-type {\n",
       "        vertical-align: middle;\n",
       "    }\n",
       "\n",
       "    .dataframe tbody tr th {\n",
       "        vertical-align: top;\n",
       "    }\n",
       "\n",
       "    .dataframe thead th {\n",
       "        text-align: right;\n",
       "    }\n",
       "</style>\n",
       "<table border=\"1\" class=\"dataframe\">\n",
       "  <thead>\n",
       "    <tr style=\"text-align: right;\">\n",
       "      <th></th>\n",
       "      <th>school</th>\n",
       "      <th>sex</th>\n",
       "      <th>age</th>\n",
       "      <th>address</th>\n",
       "      <th>famsize</th>\n",
       "      <th>Pstatus</th>\n",
       "      <th>Medu</th>\n",
       "      <th>Fedu</th>\n",
       "      <th>Mjob</th>\n",
       "      <th>Fjob</th>\n",
       "      <th>...</th>\n",
       "      <th>Fjob_int</th>\n",
       "      <th>reason_int</th>\n",
       "      <th>guardian_int</th>\n",
       "      <th>schoolsup_int</th>\n",
       "      <th>famsup_int</th>\n",
       "      <th>paid_int</th>\n",
       "      <th>activities_int</th>\n",
       "      <th>nursery_int</th>\n",
       "      <th>higher_int</th>\n",
       "      <th>internet_int</th>\n",
       "    </tr>\n",
       "  </thead>\n",
       "  <tbody>\n",
       "    <tr>\n",
       "      <th>0</th>\n",
       "      <td>GP</td>\n",
       "      <td>F</td>\n",
       "      <td>0.229943</td>\n",
       "      <td>U</td>\n",
       "      <td>GT3</td>\n",
       "      <td>T</td>\n",
       "      <td>1.241158</td>\n",
       "      <td>1.451243</td>\n",
       "      <td>services</td>\n",
       "      <td>teacher</td>\n",
       "      <td>...</td>\n",
       "      <td>4</td>\n",
       "      <td>1</td>\n",
       "      <td>1</td>\n",
       "      <td>0</td>\n",
       "      <td>1</td>\n",
       "      <td>0</td>\n",
       "      <td>0</td>\n",
       "      <td>1</td>\n",
       "      <td>1</td>\n",
       "      <td>1</td>\n",
       "    </tr>\n",
       "    <tr>\n",
       "      <th>1</th>\n",
       "      <td>MS</td>\n",
       "      <td>F</td>\n",
       "      <td>1.046974</td>\n",
       "      <td>U</td>\n",
       "      <td>LE3</td>\n",
       "      <td>A</td>\n",
       "      <td>-1.418467</td>\n",
       "      <td>-1.265770</td>\n",
       "      <td>at_home</td>\n",
       "      <td>services</td>\n",
       "      <td>...</td>\n",
       "      <td>3</td>\n",
       "      <td>0</td>\n",
       "      <td>1</td>\n",
       "      <td>0</td>\n",
       "      <td>0</td>\n",
       "      <td>0</td>\n",
       "      <td>0</td>\n",
       "      <td>1</td>\n",
       "      <td>1</td>\n",
       "      <td>0</td>\n",
       "    </tr>\n",
       "    <tr>\n",
       "      <th>2</th>\n",
       "      <td>GP</td>\n",
       "      <td>M</td>\n",
       "      <td>-0.587088</td>\n",
       "      <td>U</td>\n",
       "      <td>LE3</td>\n",
       "      <td>T</td>\n",
       "      <td>-0.531925</td>\n",
       "      <td>-0.360099</td>\n",
       "      <td>other</td>\n",
       "      <td>other</td>\n",
       "      <td>...</td>\n",
       "      <td>2</td>\n",
       "      <td>1</td>\n",
       "      <td>1</td>\n",
       "      <td>0</td>\n",
       "      <td>0</td>\n",
       "      <td>0</td>\n",
       "      <td>0</td>\n",
       "      <td>1</td>\n",
       "      <td>1</td>\n",
       "      <td>1</td>\n",
       "    </tr>\n",
       "    <tr>\n",
       "      <th>3</th>\n",
       "      <td>GP</td>\n",
       "      <td>F</td>\n",
       "      <td>0.229943</td>\n",
       "      <td>U</td>\n",
       "      <td>GT3</td>\n",
       "      <td>T</td>\n",
       "      <td>-1.418467</td>\n",
       "      <td>-1.265770</td>\n",
       "      <td>at_home</td>\n",
       "      <td>other</td>\n",
       "      <td>...</td>\n",
       "      <td>2</td>\n",
       "      <td>3</td>\n",
       "      <td>1</td>\n",
       "      <td>0</td>\n",
       "      <td>1</td>\n",
       "      <td>0</td>\n",
       "      <td>1</td>\n",
       "      <td>1</td>\n",
       "      <td>1</td>\n",
       "      <td>0</td>\n",
       "    </tr>\n",
       "    <tr>\n",
       "      <th>4</th>\n",
       "      <td>GP</td>\n",
       "      <td>F</td>\n",
       "      <td>0.229943</td>\n",
       "      <td>R</td>\n",
       "      <td>GT3</td>\n",
       "      <td>T</td>\n",
       "      <td>1.241158</td>\n",
       "      <td>1.451243</td>\n",
       "      <td>services</td>\n",
       "      <td>services</td>\n",
       "      <td>...</td>\n",
       "      <td>3</td>\n",
       "      <td>3</td>\n",
       "      <td>1</td>\n",
       "      <td>0</td>\n",
       "      <td>1</td>\n",
       "      <td>0</td>\n",
       "      <td>1</td>\n",
       "      <td>1</td>\n",
       "      <td>1</td>\n",
       "      <td>1</td>\n",
       "    </tr>\n",
       "  </tbody>\n",
       "</table>\n",
       "<p>5 rows × 50 columns</p>\n",
       "</div>"
      ],
      "text/plain": [
       "  school sex       age address famsize Pstatus      Medu      Fedu      Mjob  \\\n",
       "0     GP   F  0.229943       U     GT3       T  1.241158  1.451243  services   \n",
       "1     MS   F  1.046974       U     LE3       A -1.418467 -1.265770   at_home   \n",
       "2     GP   M -0.587088       U     LE3       T -0.531925 -0.360099     other   \n",
       "3     GP   F  0.229943       U     GT3       T -1.418467 -1.265770   at_home   \n",
       "4     GP   F  0.229943       R     GT3       T  1.241158  1.451243  services   \n",
       "\n",
       "       Fjob     ...      Fjob_int reason_int  guardian_int  schoolsup_int  \\\n",
       "0   teacher     ...             4          1             1              0   \n",
       "1  services     ...             3          0             1              0   \n",
       "2     other     ...             2          1             1              0   \n",
       "3     other     ...             2          3             1              0   \n",
       "4  services     ...             3          3             1              0   \n",
       "\n",
       "   famsup_int paid_int activities_int nursery_int higher_int internet_int  \n",
       "0           1        0              0           1          1            1  \n",
       "1           0        0              0           1          1            0  \n",
       "2           0        0              0           1          1            1  \n",
       "3           1        0              1           1          1            0  \n",
       "4           1        0              1           1          1            1  \n",
       "\n",
       "[5 rows x 50 columns]"
      ]
     },
     "execution_count": 7,
     "metadata": {},
     "output_type": "execute_result"
    }
   ],
   "source": [
    "numeric_headers = [\"age\", \"Medu\", \"Fedu\",\"traveltime\", \n",
    "                   \"studytime\",\"failures\", \"famrel\", \n",
    "                   \"freetime\",\"goout\", \"Dalc\",\n",
    "                  \"Walc\",\"health\", \"absences\", \"romantic\"]\n",
    "\n",
    "for col in numeric_headers:\n",
    "    X_train[col] = X_train[col].astype(np.float)\n",
    "    X_test[col] = X_test[col].astype(np.float)\n",
    "    \n",
    "    ss = StandardScaler()\n",
    "    X_train[col] = ss.fit_transform(X_train[col].values.reshape(-1, 1))\n",
    "    X_test[col] = ss.transform(X_test[col].values.reshape(-1, 1))\n",
    "    \n",
    "X_test.head()"
   ]
  },
  {
   "cell_type": "code",
   "execution_count": 8,
   "metadata": {
    "collapsed": false,
    "jupyter": {
     "outputs_hidden": false
    }
   },
   "outputs": [
    {
     "name": "stdout",
     "output_type": "stream",
     "text": [
      "[ 0  2  4  6  8 10 15 20 24 27 29 31 33 35 37 39 41]\n",
      "(835, 41)\n",
      "<class 'scipy.sparse.csr.csr_matrix'> ========THIS IS SPARSE ENCODED=======\n"
     ]
    }
   ],
   "source": [
    "ohe = OneHotEncoder()\n",
    "categorical_headers_ints = [x+'_int' for x in categorical_headers]\n",
    "feature_columns = categorical_headers_ints+numeric_headers\n",
    "X_train_ohe = ohe.fit_transform(X_train[categorical_headers_ints].values)\n",
    "X_test_ohe = ohe.transform(X_test[categorical_headers_ints].values)\n",
    "X_train_num =  X_train[numeric_headers].values\n",
    "X_test_num = X_test[numeric_headers].values\n",
    "\n",
    "# the ohe instance will help us to organize our encoded matrix\n",
    "print(ohe.feature_indices_)\n",
    "print(X_train_ohe.shape)\n",
    "print(type(X_train_ohe), '========THIS IS SPARSE ENCODED=======')"
   ]
  },
  {
   "cell_type": "markdown",
   "metadata": {},
   "source": [
    "<em>\n",
    "    <strong>[10 points]</strong> Identify groups of features in your data that should be combined into cross-product features. Provide justification for why these features should be crossed (or why some features should not be crossed). \n",
    "</em>"
   ]
  },
  {
   "cell_type": "markdown",
   "metadata": {},
   "source": [
    "The groups of features in our data that we combined are: school, address, activities, internet, Mjob, Fjob, Pstatus, reason, famsize, famsup, paid, nursery, and schoolsup\n",
    "We want to help our model memorize our training data. Most of the reasons for combining these features are pretty arbitrary and subjective \n",
    "We combined school and address into one cross product features since we believe that most people would want to go to school closer to where they live, thus providing a correlation.\n",
    "We combined activities and internet becasue these suggests that students have free time\n",
    "We combined Mjob, Fjob, Pstatus, and reason because we believe there must be some correlation \n",
    "We combined famsize, famsup, paid, nursery, and schoolsup because they are similar in helping to determine a student's upbringing and financial status "
   ]
  },
  {
   "cell_type": "markdown",
   "metadata": {},
   "source": [
    "<em>\n",
    "    <strong>[10 points]</strong> Choose and explain what metric(s) you will use to evaluate your algorithm’s performance. You should give a detailed argument for why this (these) metric(s) are appropriate on your data. That is, why is the metric appropriate for the task (e.g., in terms of the business case for the task). Please note: rarely is accuracy the best evaluation metric to use. Think deeply about an appropriate measure of performance.\n",
    "</em>"
   ]
  },
  {
   "cell_type": "markdown",
   "metadata": {},
   "source": [
    "We will be using Precision_score as our evaluation metric because we want lower false positives. We don't want the program to classify failing students as passing. If this happens, the failing students don't get the necessary resources the school can provide. We will also weight our confusion matrix so the program pays attention to those who are failing and provides more priority towards those students."
   ]
  },
  {
   "cell_type": "code",
   "execution_count": 9,
   "metadata": {
    "collapsed": false,
    "jupyter": {
     "outputs_hidden": false
    }
   },
   "outputs": [
    {
     "name": "stdout",
     "output_type": "stream",
     "text": [
      "weight metric calculation: \n",
      "fail_weight:  3.2523364485981308\n",
      "pass_weight:  1.4439834024896265\n"
     ]
    }
   ],
   "source": [
    "print('weight metric calculation: ')\n",
    "total = len(target)\n",
    "failing = len(target[target == 0]) # num of instances\n",
    "passing = len(target[target == 1]) # num of instances\n",
    "\n",
    "fail_weight = total / failing \n",
    "pass_weight = total / passing\n",
    "\n",
    "print('fail_weight: ', fail_weight)\n",
    "print('pass_weight: ', pass_weight)\n"
   ]
  },
  {
   "cell_type": "markdown",
   "metadata": {},
   "source": [
    "<em>\n",
    "    <strong>[10 points]</strong> Choose the method you will use for dividing your data into training and testing (i.e., are you using Stratified 10-fold cross validation? Shuffle splits? Why?). Explain why your chosen method is appropriate or use more than one method as appropriate. Argue why your cross validation method is a realistic mirroring of how an algorithm would be used in practice. \n",
    "</em>\n"
   ]
  },
  {
   "cell_type": "markdown",
   "metadata": {},
   "source": [
    "We shuffle our data in the beginning to split our training and testing data into an 80/20 split. Because our data isn't time sensitive, we believe that an 80/20 split is sufficient for training our classifier. Although this will only leave us with 800 instances to train on, which isn't very high, we believe this is still better than having a 90/10 split. Although we don't as much trainng data as we hope to have, we will have better understanding of how well our program does with the other 200 instances. The reason for this split is because Then while we test out each data architecture, we will use stratified 5-fold cross validation because we only have data from 1000 students. We want each fold to have an equal distribution of pass and fail students.     "
   ]
  },
  {
   "cell_type": "markdown",
   "metadata": {},
   "source": [
    "## Modeling (50 points total)\n",
    "<em>\n",
    "    <strong>[20 points]</strong> Create several combined wide and deep networks to classify your data using Keras. Visualize the performance of the network on the training data and validation data in the same plot versus the training iterations. Note: use the \"history\" return parameter that is part of Keras \"fit\" function to easily access this data.\n",
    "</em>"
   ]
  },
  {
   "cell_type": "markdown",
   "metadata": {},
   "source": [
    "### First Deep Architecture  "
   ]
  },
  {
   "cell_type": "code",
   "execution_count": 10,
   "metadata": {
    "collapsed": false,
    "jupyter": {
     "outputs_hidden": false
    }
   },
   "outputs": [
    {
     "name": "stdout",
     "output_type": "stream",
     "text": [
      "[[30 22]\n",
      " [54 62]] => 0.7380952380952381\n",
      "[[34 18]\n",
      " [33 83]] => 0.8217821782178217\n",
      "[[ 33  18]\n",
      " [ 13 103]] => 0.8512396694214877\n",
      "[[ 38  13]\n",
      " [ 12 103]] => 0.8879310344827587\n",
      "[[42  9]\n",
      " [16 99]] => 0.9166666666666666\n",
      "[0.7380952380952381, 0.8217821782178217, 0.8512396694214877, 0.8879310344827587, 0.9166666666666666]\n",
      "CPU times: user 1min 2s, sys: 18.9 s, total: 1min 21s\n",
      "Wall time: 37.1 s\n"
     ]
    }
   ],
   "source": [
    "%%time\n",
    "\n",
    "cross_columns = [['school','address', ],\n",
    "                 ['activities', 'internet'],\n",
    "                 ['Mjob','Fjob','Pstatus', 'reason'],\n",
    "                 ['famsize','famsup','paid','nursery','schoolsup']]\n",
    "\n",
    "\n",
    "# we need to create separate lists for each branch\n",
    "embed_branches = []\n",
    "X_ints_train = []\n",
    "X_ints_test = []\n",
    "all_inputs = []\n",
    "all_wide_branch_outputs = []\n",
    "\n",
    "for cols in cross_columns:\n",
    "    # encode crossed columns as ints for the embedding\n",
    "    enc = LabelEncoder()\n",
    "    \n",
    "    # create crossed labels\n",
    "    X_crossed_train = X_train[cols].apply(lambda x: '_'.join(x), axis=1)\n",
    "    X_crossed_test = X_test[cols].apply(lambda x: '_'.join(x), axis=1)\n",
    "    \n",
    "    enc.fit(np.hstack((X_crossed_train.values,  X_crossed_test.values)))\n",
    "    X_crossed_train = enc.transform(X_crossed_train)\n",
    "    X_crossed_test = enc.transform(X_crossed_test)\n",
    "    X_ints_train.append( X_crossed_train )\n",
    "    X_ints_test.append( X_crossed_test )\n",
    "    \n",
    "    # get the number of categories\n",
    "    N = max(X_ints_train[-1]+1) # same as the max(df_train[col])\n",
    "    \n",
    "    # create embedding branch from the number of categories\n",
    "    inputs = Input(shape=(1,),dtype='int32', name = '_'.join(cols))\n",
    "    all_inputs.append(inputs)\n",
    "    x = Embedding(input_dim=N, \n",
    "                  output_dim=int(np.sqrt(N)), \n",
    "                  input_length=1)(inputs)\n",
    "    x = Flatten()(x)\n",
    "    all_wide_branch_outputs.append(x)\n",
    "    \n",
    "# merge the branches together\n",
    "wide_branch = concatenate(all_wide_branch_outputs, name='wide_concat')\n",
    "wide_branch = Dense(units=1,activation='relu',name='wide_combined')(wide_branch)\n",
    "\n",
    "# reset this input branch\n",
    "all_deep_branch_outputs = []\n",
    "# add in the embeddings\n",
    "for col in categorical_headers_ints:\n",
    "    # encode as ints for the embedding\n",
    "    X_ints_train.append( X_train[col].values )\n",
    "    X_ints_test.append( X_test[col].values )\n",
    "    \n",
    "    # get the number of categories\n",
    "    N = max(X_ints_train[-1]+1) # same as the max(df_train[col])\n",
    "    \n",
    "    # create embedding branch from the number of categories\n",
    "    inputs = Input(shape=(1,),dtype='int32', name=col)\n",
    "    all_inputs.append(inputs)\n",
    "    x = Embedding(input_dim=N, \n",
    "                  output_dim=int(np.sqrt(N)), \n",
    "                  input_length=1)(inputs)\n",
    "    x = Flatten()(x)\n",
    "    all_deep_branch_outputs.append(x)\n",
    "    \n",
    "# also get a dense branch of the numeric features\n",
    "all_inputs.append(Input(shape=(X_train_num.shape[1],),\n",
    "                        sparse=False,\n",
    "                        name='numeric_data'))\n",
    "\n",
    "x = Dense(units=20, activation='relu',name='numeric_1')(all_inputs[-1])\n",
    "all_deep_branch_outputs.append( x )\n",
    "\n",
    "# merge the deep branches together\n",
    "deep_branch = concatenate(all_deep_branch_outputs,name='concat_embeds')\n",
    "deep_branch = Dense(units=50,activation='relu', name='deep1')(deep_branch)\n",
    "deep_branch = Dropout(0.25, seed=32, name='dropout75')(deep_branch)\n",
    "deep_branch = Dense(units=25,activation='relu', name='deep2')(deep_branch)\n",
    "deep_branch = Dropout(0.50, seed=32, name='dropout50')(deep_branch)\n",
    "deep_branch = Dense(units=10,activation='relu', name='deep3')(deep_branch)\n",
    "deep_branch = Dropout(0.75, seed=32, name='dropout25')(deep_branch)\n",
    "\n",
    "final_branch = concatenate([wide_branch, deep_branch],name='concat_deep_wide')\n",
    "final_branch = Dense(units=1,activation='sigmoid',name='combined')(final_branch)\n",
    "\n",
    "X_train_final = X_ints_train\n",
    "X_train_final.append(X_train_num)\n",
    "\n",
    "# Weighted Values for each class; Sets them Equal to eachother (Since they are unequal in count)\n",
    "class_weight = {\n",
    "    0: 3.25,\n",
    "    1: 1.44,\n",
    "}\n",
    "\n",
    "costs = []\n",
    "kfold = StratifiedKFold(n_splits=5, shuffle=True, random_state=64)\n",
    "for train_idx, test_idx in kfold.split(X_train_num, y_train):\n",
    "    # build train and test samples from crossed cols and feature cols\n",
    "    X_train_temp = [X[train_idx] for X in X_train_final]\n",
    "    y_train_temp = y_train[train_idx]\n",
    "    X_test_temp = [X[test_idx] for X in X_train_final]\n",
    "    y_test_temp = y_train[test_idx]\n",
    "    \n",
    "    # rebuild model\n",
    "    model = Model(inputs=all_inputs, outputs=final_branch)\n",
    "    model.compile(optimizer='adagrad',\n",
    "                  loss='mean_squared_error',\n",
    "                  metrics=['accuracy'])\n",
    "\n",
    "    # fit on train and predict on test\n",
    "    model.fit(X_train_temp, y_train_temp, class_weight=class_weight, epochs=100, batch_size=32, verbose=0)\n",
    "    yhat = np.round(model.predict(X_test_temp))\n",
    "\n",
    "    # take cost\n",
    "    c = mt.precision_score(y_test_temp, yhat)\n",
    "    costs.append(c)\n",
    "    \n",
    "    # print confusion matrix\n",
    "    print(confusion_matrix(y_test_temp,yhat), \"=>\", c)\n",
    "\n",
    "print(costs)"
   ]
  },
  {
   "cell_type": "code",
   "execution_count": 11,
   "metadata": {
    "collapsed": false,
    "jupyter": {
     "outputs_hidden": false
    }
   },
   "outputs": [],
   "source": [
    "X_test_final = X_ints_test\n",
    "X_test_final.append(X_test_num)\n",
    "model = Model(inputs=all_inputs, outputs=final_branch)\n",
    "model.compile(optimizer='adagrad',\n",
    "              loss='mean_squared_error',\n",
    "              metrics=['accuracy'])"
   ]
  },
  {
   "cell_type": "code",
   "execution_count": 12,
   "metadata": {
    "collapsed": false,
    "jupyter": {
     "outputs_hidden": false
    }
   },
   "outputs": [
    {
     "name": "stdout",
     "output_type": "stream",
     "text": [
      "CPU times: user 3min 15s, sys: 1min 8s, total: 4min 23s\n",
      "Wall time: 1min 41s\n"
     ]
    }
   ],
   "source": [
    "%%time\n",
    "\n",
    "history = model.fit(X_train_final, y_train, class_weight=class_weight, \n",
    "                    epochs=1250, batch_size=32, verbose=0,\n",
    "                    validation_data = (X_test_final, y_test))"
   ]
  },
  {
   "cell_type": "code",
   "execution_count": 13,
   "metadata": {
    "collapsed": false,
    "jupyter": {
     "outputs_hidden": false
    }
   },
   "outputs": [
    {
     "data": {
      "text/plain": [
       "Text(0.5, 0, 'epochs')"
      ]
     },
     "execution_count": 13,
     "metadata": {},
     "output_type": "execute_result"
    },
    {
     "data": {
      "image/png": "[encoded data removed]",
      "text/plain": [
       "<Figure size 720x288 with 4 Axes>"
      ]
     },
     "metadata": {},
     "output_type": "display_data"
    }
   ],
   "source": [
    "%matplotlib inline\n",
    "\n",
    "plt.figure(figsize=(10,4))\n",
    "plt.subplot(2,2,1)\n",
    "plt.plot(history.history['acc'])\n",
    "\n",
    "plt.ylabel('Accuracy %')\n",
    "plt.title('Training')\n",
    "plt.subplot(2,2,2)\n",
    "plt.plot(history.history['val_acc'])\n",
    "plt.title('Validation')\n",
    "\n",
    "plt.subplot(2,2,3)\n",
    "plt.plot(history.history['loss'])\n",
    "plt.ylabel('MSE Training Loss')\n",
    "plt.xlabel('epochs')\n",
    "\n",
    "plt.subplot(2,2,4)\n",
    "plt.plot(history.history['val_loss'])\n",
    "plt.xlabel('epochs')"
   ]
  },
  {
   "cell_type": "code",
   "execution_count": 14,
   "metadata": {
    "collapsed": false,
    "jupyter": {
     "outputs_hidden": false
    }
   },
   "outputs": [
    {
     "name": "stdout",
     "output_type": "stream",
     "text": [
      "[[ 33  31]\n",
      " [ 16 129]]\n",
      "0.80625\n"
     ]
    }
   ],
   "source": [
    "yhat_proba = model.predict(X_test_final)\n",
    "yhat = np.round(yhat_proba)\n",
    "print(confusion_matrix(y_test,yhat))\n",
    "print(mt.precision_score(y_test, yhat))\n",
    "fpr1, tpr1, _ = roc_curve(y_test, yhat_proba)\n",
    "roc_auc1 = auc(fpr1, tpr1)"
   ]
  },
  {
   "cell_type": "markdown",
   "metadata": {},
   "source": [
    "### Second Architecture with Crossed Columns "
   ]
  },
  {
   "cell_type": "code",
   "execution_count": 15,
   "metadata": {
    "collapsed": false,
    "jupyter": {
     "outputs_hidden": false
    }
   },
   "outputs": [
    {
     "name": "stdout",
     "output_type": "stream",
     "text": [
      "[[26 26]\n",
      " [29 87]] => 0.7699115044247787\n",
      "[[38 14]\n",
      " [24 92]] => 0.8679245283018868\n",
      "[[ 38  13]\n",
      " [  9 107]] => 0.8916666666666667\n",
      "[[ 42   9]\n",
      " [  9 106]] => 0.9217391304347826\n",
      "[[44  7]\n",
      " [16 99]] => 0.9339622641509434\n",
      "[0.7699115044247787, 0.8679245283018868, 0.8916666666666667, 0.9217391304347826, 0.9339622641509434]\n",
      "CPU times: user 1min 25s, sys: 23.3 s, total: 1min 48s\n",
      "Wall time: 51.3 s\n"
     ]
    }
   ],
   "source": [
    "%%time\n",
    "\n",
    "cross_columns = [['school','address', ],\n",
    "                 ['activities', 'internet'],\n",
    "                 ['Mjob','Fjob','Pstatus', 'reason'],\n",
    "                 ['famsize','famsup','paid','nursery','schoolsup']]\n",
    "\n",
    "\n",
    "# we need to create separate lists for each branch\n",
    "embed_branches = []\n",
    "X_ints_train = []\n",
    "X_ints_test = []\n",
    "all_inputs = []\n",
    "all_wide_branch_outputs = []\n",
    "\n",
    "for cols in cross_columns:\n",
    "    # encode crossed columns as ints for the embedding\n",
    "    enc = LabelEncoder()\n",
    "    \n",
    "    # create crossed labels\n",
    "    X_crossed_train = X_train[cols].apply(lambda x: '_'.join(x), axis=1)\n",
    "    X_crossed_test = X_test[cols].apply(lambda x: '_'.join(x), axis=1)\n",
    "    \n",
    "    enc.fit(np.hstack((X_crossed_train.values,  X_crossed_test.values)))\n",
    "    X_crossed_train = enc.transform(X_crossed_train)\n",
    "    X_crossed_test = enc.transform(X_crossed_test)\n",
    "    X_ints_train.append( X_crossed_train )\n",
    "    X_ints_test.append( X_crossed_test )\n",
    "    \n",
    "    # get the number of categories\n",
    "    N = max(X_ints_train[-1]+1) # same as the max(df_train[col])\n",
    "    \n",
    "    # create embedding branch from the number of categories\n",
    "    inputs = Input(shape=(1,),dtype='int32', name = '_'.join(cols))\n",
    "    all_inputs.append(inputs)\n",
    "    x = Embedding(input_dim=N, \n",
    "                  output_dim=int(np.sqrt(N)), \n",
    "                  input_length=1)(inputs)\n",
    "    x = Flatten()(x)\n",
    "    all_wide_branch_outputs.append(x)\n",
    "    \n",
    "# merge the branches together\n",
    "wide_branch = concatenate(all_wide_branch_outputs, name='wide_concat')\n",
    "wide_branch = Dense(units=1,activation='relu',name='wide_combined')(wide_branch)\n",
    "\n",
    "# reset this input branch\n",
    "all_deep_branch_outputs = []\n",
    "# add in the embeddings\n",
    "for col in categorical_headers_ints:\n",
    "    # encode as ints for the embedding\n",
    "    X_ints_train.append( X_train[col].values )\n",
    "    X_ints_test.append( X_test[col].values )\n",
    "    \n",
    "    # get the number of categories\n",
    "    N = max(X_ints_train[-1]+1) # same as the max(df_train[col])\n",
    "    \n",
    "    # create embedding branch from the number of categories\n",
    "    inputs = Input(shape=(1,),dtype='int32', name=col)\n",
    "    all_inputs.append(inputs)\n",
    "    x = Embedding(input_dim=N, \n",
    "                  output_dim=int(np.sqrt(N)), \n",
    "                  input_length=1, name=col+'_embed')(inputs)\n",
    "    x = Flatten()(x)\n",
    "    all_deep_branch_outputs.append(x)\n",
    "    \n",
    "# also get a dense branch of the numeric features\n",
    "all_inputs.append(Input(shape=(X_train_num.shape[1],),\n",
    "                        sparse=False,\n",
    "                        name='numeric_data'))\n",
    "\n",
    "x = Dense(units=20, activation='relu',name='numeric_1')(all_inputs[-1])\n",
    "all_deep_branch_outputs.append( x )\n",
    "\n",
    "# merge the deep branches together\n",
    "deep_branch = concatenate(all_deep_branch_outputs,name='concat_embeds')\n",
    "deep_branch = Dense(units=50,activation='relu', name='deep1')(deep_branch)\n",
    "deep_branch = Dropout(0.10, seed=32, name='dropout10')(deep_branch)\n",
    "deep_branch = Dense(units=50,activation='relu', name='deep2')(deep_branch)\n",
    "deep_branch = Dropout(0.20, seed=32, name='dropout20')(deep_branch)\n",
    "deep_branch = Dense(units=50,activation='relu', name='deep3')(deep_branch)\n",
    "deep_branch = Dropout(0.30, seed=32, name='dropout30')(deep_branch)\n",
    "deep_branch = Dense(units=50,activation='relu', name='deep4')(deep_branch)\n",
    "deep_branch = Dropout(0.40, seed=32, name='dropout40')(deep_branch)\n",
    "deep_branch = Dense(units=25,activation='relu', name='deep5')(deep_branch)\n",
    "deep_branch = Dropout(0.50, seed=32, name='dropout50')(deep_branch)\n",
    "deep_branch = Dense(units=10,activation='relu', name='deep6')(deep_branch)\n",
    "deep_branch = Dropout(0.60, seed=32, name='dropout60')(deep_branch)    \n",
    "    \n",
    "final_branch = concatenate([wide_branch, deep_branch],name='concat_deep_wide')\n",
    "final_branch = Dense(units=1,activation='sigmoid',name='combined')(final_branch)\n",
    "\n",
    "X_train_final = X_ints_train\n",
    "X_train_final.append(X_train_num)\n",
    "\n",
    "# Weighted Values for each class; Sets them Equal to eachother (Since they are unequal in count)\n",
    "class_weight = {\n",
    "    0: 3.25,\n",
    "    1: 1.44,\n",
    "}\n",
    "\n",
    "costs = []\n",
    "kfold = StratifiedKFold(n_splits=5, shuffle=True, random_state=64)\n",
    "for train_idx, test_idx in kfold.split(X_train_num, y_train):\n",
    "    # build train and test samples from crossed cols and feature cols\n",
    "    X_train_temp = [X[train_idx] for X in X_train_final]\n",
    "    y_train_temp = y_train[train_idx]\n",
    "    X_test_temp = [X[test_idx] for X in X_train_final]\n",
    "    y_test_temp = y_train[test_idx]\n",
    "    \n",
    "    # rebuild model\n",
    "    model = Model(inputs=all_inputs, outputs=final_branch)\n",
    "    model.compile(optimizer='adagrad',\n",
    "                  loss='mean_squared_error',\n",
    "                  metrics=['accuracy'])\n",
    "\n",
    "    # fit on train and predict on test\n",
    "    model.fit(X_train_temp, y_train_temp, class_weight=class_weight, epochs=100, batch_size=32, verbose=0)\n",
    "    yhat = np.round(model.predict(X_test_temp))\n",
    "\n",
    "    # take cost\n",
    "    c = mt.precision_score(y_test_temp, yhat)\n",
    "    costs.append(c)\n",
    "    \n",
    "    # print confusion matrix\n",
    "    print(confusion_matrix(y_test_temp,yhat), \"=>\", c)\n",
    "\n",
    "print(costs)"
   ]
  },
  {
   "cell_type": "code",
   "execution_count": 16,
   "metadata": {
    "collapsed": false,
    "jupyter": {
     "outputs_hidden": false
    }
   },
   "outputs": [],
   "source": [
    "X_test_final = X_ints_test\n",
    "X_test_final.append(X_test_num)\n",
    "model = Model(inputs=all_inputs, outputs=final_branch)\n",
    "model.compile(optimizer='adagrad',\n",
    "              loss='mean_squared_error',\n",
    "              metrics=['accuracy'])"
   ]
  },
  {
   "cell_type": "code",
   "execution_count": 17,
   "metadata": {
    "collapsed": false,
    "jupyter": {
     "outputs_hidden": false
    }
   },
   "outputs": [
    {
     "name": "stdout",
     "output_type": "stream",
     "text": [
      "CPU times: user 4min 14s, sys: 1min 24s, total: 5min 39s\n",
      "Wall time: 2min 11s\n"
     ]
    }
   ],
   "source": [
    "%%time\n",
    "\n",
    "history = model.fit(X_train_final, y_train, class_weight=class_weight, \n",
    "                    epochs=1250, batch_size=32, verbose=0,\n",
    "                    validation_data = (X_test_final, y_test))"
   ]
  },
  {
   "cell_type": "code",
   "execution_count": 18,
   "metadata": {
    "collapsed": false,
    "jupyter": {
     "outputs_hidden": false
    }
   },
   "outputs": [
    {
     "data": {
      "text/plain": [
       "Text(0.5, 0, 'epochs')"
      ]
     },
     "execution_count": 18,
     "metadata": {},
     "output_type": "execute_result"
    },
    {
     "data": {
      "image/png": "[encoded data removed]",
      "text/plain": [
       "<Figure size 720x288 with 4 Axes>"
      ]
     },
     "metadata": {},
     "output_type": "display_data"
    }
   ],
   "source": [
    "%matplotlib inline\n",
    "\n",
    "plt.figure(figsize=(10,4))\n",
    "plt.subplot(2,2,1)\n",
    "plt.plot(history.history['acc'])\n",
    "\n",
    "plt.ylabel('Accuracy %')\n",
    "plt.title('Training')\n",
    "plt.subplot(2,2,2)\n",
    "plt.plot(history.history['val_acc'])\n",
    "plt.title('Validation')\n",
    "\n",
    "plt.subplot(2,2,3)\n",
    "plt.plot(history.history['loss'])\n",
    "plt.ylabel('MSE Training Loss')\n",
    "plt.xlabel('epochs')\n",
    "\n",
    "plt.subplot(2,2,4)\n",
    "plt.plot(history.history['val_loss'])\n",
    "plt.xlabel('epochs')"
   ]
  },
  {
   "cell_type": "code",
   "execution_count": 19,
   "metadata": {
    "collapsed": false,
    "jupyter": {
     "outputs_hidden": false
    }
   },
   "outputs": [
    {
     "name": "stdout",
     "output_type": "stream",
     "text": [
      "[[ 33  31]\n",
      " [ 15 130]]\n",
      "0.8074534161490683\n"
     ]
    }
   ],
   "source": [
    "yhat_proba = model.predict(X_test_final)\n",
    "yhat = np.round(yhat_proba)\n",
    "print(confusion_matrix(y_test,yhat))\n",
    "print(mt.precision_score(y_test, yhat))\n",
    "fpr2, tpr2, _ = roc_curve(y_test, yhat_proba)\n",
    "roc_auc2 = auc(fpr2, tpr2)"
   ]
  },
  {
   "cell_type": "markdown",
   "metadata": {},
   "source": [
    "<em>\n",
    "    <strong>[20 points]</strong> Investigate generalization performance by altering the number of layers in the deep branch of the network. Try at least two different number of layers. Use the method of cross validation and evaluation metric that you argued for at the beginning of the lab to select the number of layers that performs superiorly. \n",
    "</em>"
   ]
  },
  {
   "cell_type": "markdown",
   "metadata": {},
   "source": [
    "We compared between a 3 deep layer network and a 7 deep layer network. For each network, we printed out our evalutaion metric for each fold. As you can see in the 3 layer network, the scores range from 0.73-0.88 while the scores in the 7 layer network range from 0.77-0.93. We can tell from this information that the 7 layer network is performing statistically better than the 3 layer network using our cross validation and evaluation metric. The validation and epoch graphs for the 7 layer network appear to be more consistent and correct than the 3 layer network's graphs. There are more defined curves in the seven layer network than the three layer network also. "
   ]
  },
  {
   "cell_type": "markdown",
   "metadata": {},
   "source": [
    "<em>\n",
    "    <strong>[10 points]</strong> Compare the performance of your best wide and deep network to a standard multi-layer perceptron (MLP). For classification tasks, use the receiver operating characteristic and area under the curve. For regression tasks, use Bland-Altman plots and residual variance calculations.  Use proper statistical method to compare the performance of different models.  \n",
    "</em>"
   ]
  },
  {
   "cell_type": "code",
   "execution_count": 20,
   "metadata": {
    "collapsed": false,
    "jupyter": {
     "outputs_hidden": false
    }
   },
   "outputs": [
    {
     "data": {
      "text/plain": [
       "(1044, 94)"
      ]
     },
     "execution_count": 20,
     "metadata": {},
     "output_type": "execute_result"
    }
   ],
   "source": [
    "def one_hot_encode(df, feature):\n",
    "    one_hot = pd.get_dummies(df[feature], prefix = feature)\n",
    "    df = df.drop([feature], axis=1)\n",
    "    df = pd.concat([df, one_hot], axis=1)\n",
    "    return df\n",
    "\n",
    "def binary_encode(df, feature):\n",
    "    binary = pd.get_dummies(df[feature], prefix = feature)\n",
    "    df = df.drop([feature], axis=1)\n",
    "    df = pd.concat([df, binary.iloc[:,0]], axis=1)\n",
    "    return df\n",
    "\n",
    "# Original Header Names Prior to Encoding\n",
    "original_headers = list(df.columns.values)\n",
    "\n",
    "# List of headers to be binary encoded\n",
    "binary_headers = ['school', 'sex', 'address', 'famsize', 'Pstatus', 'schoolsup',\n",
    "                  'famsup', 'paid', 'activities', 'nursery', 'higher', 'internet',\n",
    "                  'romantic', 'class']\n",
    "\n",
    "# List of headers to be one hot encoded\n",
    "one_hot_headers = ['age', 'Medu', 'Fedu', 'Mjob', 'Fjob', 'reason', 'guardian', \n",
    "                   'traveltime', 'studytime', 'famrel', 'freetime', 'goout', 'Dalc',\n",
    "                   'Walc', 'health', 'absences', 'failures']\n",
    "\n",
    "# Convert absences into few, some, and a lot of absences\n",
    "data.absences[(data.absences  <= 5)] = 0\n",
    "data.absences[(data.absences > 5 ) & (data.absences <= 10)] = 1\n",
    "data.absences[(data.absences  > 10)] = 2\n",
    "\n",
    "# binary ecodes\n",
    "for header in binary_headers:\n",
    "    data = binary_encode(data, header)\n",
    "\n",
    "# one hot ecodes\n",
    "for header in one_hot_headers:\n",
    "    data = one_hot_encode(data, header)\n",
    "\n",
    "# Encoded Headers\n",
    "encoded_headers = list(data.columns.values)\n",
    "    \n",
    "data.shape"
   ]
  },
  {
   "cell_type": "code",
   "execution_count": 21,
   "metadata": {
    "collapsed": false,
    "jupyter": {
     "outputs_hidden": false
    }
   },
   "outputs": [],
   "source": [
    "def network_fit(nn, X_train, y_train, X_test, y_test):\n",
    "    history = nn.fit(X_train,\n",
    "                      y_train, \n",
    "                      epochs=1250, \n",
    "                      batch_size=50, \n",
    "                      verbose=0, \n",
    "                      validation_data = (X_test, y_test)\n",
    "    )\n",
    "    return history\n",
    "\n",
    "def network_predict(nn, X_test, y_test):\n",
    "    yhat_proba = nn.predict(X_test)\n",
    "    yhat = np.round(yhat_proba)\n",
    "    confusion = mt.confusion_matrix(y_test, yhat)\n",
    "    acc = mt.precision_score(y_test, yhat)\n",
    "    fpr, tpr, _ = roc_curve(y_test, yhat_proba)\n",
    "    roc_auc = auc(fpr, tpr)\n",
    "    return confusion, acc, fpr, tpr, roc_auc\n",
    "\n",
    "def network_plot(history):    \n",
    "    plt.figure(figsize=(15,5))\n",
    "\n",
    "    # summarize history for accuracy\n",
    "    plt.subplot(1,2,1)\n",
    "    plt.plot(history.history['acc'])\n",
    "    plt.plot(history.history['val_acc'])\n",
    "    plt.title('model accuracy')\n",
    "    plt.ylabel('accuracy')\n",
    "    plt.xlabel('epoch')\n",
    "    plt.legend(['train', 'test'], loc='upper left')\n",
    "\n",
    "    # summarize history for loss\n",
    "    plt.subplot(1,2,2)\n",
    "    plt.plot(history.history['loss'])\n",
    "    plt.plot(history.history['val_loss'])\n",
    "    plt.title('model loss')\n",
    "    plt.ylabel('loss')\n",
    "    plt.xlabel('epoch')\n",
    "    plt.legend(['train', 'test'], loc='upper left')\n",
    "    \n",
    "    plt.show()"
   ]
  },
  {
   "cell_type": "code",
   "execution_count": 22,
   "metadata": {
    "collapsed": false,
    "jupyter": {
     "outputs_hidden": false
    }
   },
   "outputs": [],
   "source": [
    "split = int(len(data) * 0.8)\n",
    "\n",
    "X_train = data.values[0:split]\n",
    "X_test = data.values[split:len(data)]\n",
    "y_train = target.values[0:split]\n",
    "y_test = target.values[split:len(data)]"
   ]
  },
  {
   "cell_type": "code",
   "execution_count": 23,
   "metadata": {
    "collapsed": false,
    "jupyter": {
     "outputs_hidden": false
    }
   },
   "outputs": [
    {
     "name": "stdout",
     "output_type": "stream",
     "text": [
      "_________________________________________________________________\n",
      "Layer (type)                 Output Shape              Param #   \n",
      "=================================================================\n",
      "Input (InputLayer)           (None, 94)                0         \n",
      "_________________________________________________________________\n",
      "Layer_1 (Dense)              (None, 100)               9500      \n",
      "_________________________________________________________________\n",
      "Dropout_25 (Dropout)         (None, 100)               0         \n",
      "_________________________________________________________________\n",
      "Layer_2 (Dense)              (None, 50)                5050      \n",
      "_________________________________________________________________\n",
      "Dropout_50 (Dropout)         (None, 50)                0         \n",
      "_________________________________________________________________\n",
      "Layer_3 (Dense)              (None, 50)                2550      \n",
      "_________________________________________________________________\n",
      "Dropout_75 (Dropout)         (None, 50)                0         \n",
      "_________________________________________________________________\n",
      "Layer_4 (Dense)              (None, 10)                510       \n",
      "_________________________________________________________________\n",
      "Activation (Dense)           (None, 1)                 11        \n",
      "=================================================================\n",
      "Total params: 17,621\n",
      "Trainable params: 17,621\n",
      "Non-trainable params: 0\n",
      "_________________________________________________________________\n"
     ]
    }
   ],
   "source": [
    "inputs = Input(shape=(X_train.shape[1],), name='Input')\n",
    "layer1 = Dense(units=100, activation='relu', name='Layer_1')(inputs)\n",
    "layer1 = Dropout(0.25, name='Dropout_25')(layer1)\n",
    "layer2 = Dense(units=50, activation='relu', name='Layer_2')(layer1)\n",
    "layer2 = Dropout(0.50, name='Dropout_50')(layer2)\n",
    "layer3 = Dense(units=50, activation='relu', name='Layer_3')(layer2)\n",
    "layer3 = Dropout(0.75, name='Dropout_75')(layer3)\n",
    "layer4 = Dense(units=10, activation='relu', name='Layer_4')(layer3)\n",
    "predictions = Dense(units=1, activation='sigmoid', name='Activation')(layer4)\n",
    "\n",
    "mlp = Model(inputs=inputs, outputs=predictions)\n",
    "\n",
    "mlp.compile(loss='mean_squared_error',\n",
    "              optimizer='adagrad',\n",
    "              metrics=['accuracy'])\n",
    "\n",
    "mlp.summary()"
   ]
  },
  {
   "cell_type": "code",
   "execution_count": 24,
   "metadata": {
    "collapsed": false,
    "jupyter": {
     "outputs_hidden": false
    }
   },
   "outputs": [
    {
     "name": "stdout",
     "output_type": "stream",
     "text": [
      "CPU times: user 1min 5s, sys: 14.8 s, total: 1min 20s\n",
      "Wall time: 36.9 s\n"
     ]
    }
   ],
   "source": [
    "%%time\n",
    "\n",
    "history = network_fit(mlp, X_train, y_train, X_test, y_test)"
   ]
  },
  {
   "cell_type": "code",
   "execution_count": 25,
   "metadata": {
    "collapsed": false,
    "jupyter": {
     "outputs_hidden": false
    }
   },
   "outputs": [
    {
     "name": "stdout",
     "output_type": "stream",
     "text": [
      "[[ 23  69]\n",
      " [  4 113]] 0.6208791208791209\n"
     ]
    }
   ],
   "source": [
    "confusion, acc, fpr, tpr, roc_auc = network_predict(mlp, X_test, y_test)\n",
    "print(confusion, acc)"
   ]
  },
  {
   "cell_type": "code",
   "execution_count": 26,
   "metadata": {
    "collapsed": false,
    "jupyter": {
     "outputs_hidden": false
    }
   },
   "outputs": [
    {
     "data": {
      "image/png": "[encoded data removed]",
      "text/plain": [
       "<Figure size 1080x360 with 2 Axes>"
      ]
     },
     "metadata": {},
     "output_type": "display_data"
    }
   ],
   "source": [
    "network_plot(history)"
   ]
  },
  {
   "cell_type": "code",
   "execution_count": 27,
   "metadata": {
    "collapsed": false,
    "jupyter": {
     "outputs_hidden": false
    }
   },
   "outputs": [
    {
     "data": {
      "image/png": "[encoded data removed]",
      "text/plain": [
       "<Figure size 432x288 with 1 Axes>"
      ]
     },
     "metadata": {},
     "output_type": "display_data"
    }
   ],
   "source": [
    "plt.figure()\n",
    "lw = 2\n",
    "plt.plot(fpr, tpr, color='cornflowerblue',\n",
    "         lw=lw, label='ROC curve of MLP (area = %0.2f)' % roc_auc)\n",
    "\n",
    "plt.plot(fpr1, tpr1, color='navy', linestyle=':', linewidth=4,\n",
    "         lw=lw, label='ROC curve of Net 1 (area = %0.2f)' % roc_auc1)\n",
    "\n",
    "plt.plot(fpr2, tpr2, color='deeppink', linestyle=':', linewidth=4,\n",
    "         lw=lw, label='ROC curve of Net 2 (area = %0.2f)' % roc_auc2)\n",
    "\n",
    "plt.plot([0, 1], [0, 1], color='navy', lw=lw, linestyle='--')\n",
    "plt.xlim([0.0, 1.0])\n",
    "plt.ylim([0.0, 1.05])\n",
    "plt.xlabel('False Positive Rate')\n",
    "plt.ylabel('True Positive Rate')\n",
    "plt.title('Receiver operating characteristic example')\n",
    "plt.legend(loc=\"lower right\")\n",
    "plt.show()"
   ]
  },
  {
   "cell_type": "markdown",
   "metadata": {},
   "source": [
    "Net1 is the 3 layer network and Net 2 is the 7 layer network. We want our curves to be as close to the upper length quadrant of the graph. In the graph above, all of our curves are above the random guessing line so that's good. As you can see, the area under the curve for Net 2 is greater than that of the MLP and Net 1. Net 2 is closest to the ideal line. This ultimately allows us to conclude that Net 2 yields a greater performance than the other two."
   ]
  },
  {
   "cell_type": "markdown",
   "metadata": {},
   "source": [
    "## Exceptional Work (10 points total)\n",
    "<em>\n",
    "    One idea (required for 7000 level students): Capture the embedding weights from the deep network and (if needed) perform t-SNE dimensionality reduction on the output of these embedding layers (only if needed). That is, pass the observations into the network, save the embedded weights (called embeddings), and then perform  dimensionality reduction in order to visualize results. Visualize and explain any clusters in the data.</em>"
   ]
  },
  {
   "cell_type": "markdown",
   "metadata": {},
   "source": [
    "In the following cell, we capture the categorical embedded weights of our second wide-deep network architecture."
   ]
  },
  {
   "cell_type": "code",
   "execution_count": 69,
   "metadata": {
    "collapsed": false,
    "jupyter": {
     "outputs_hidden": false
    }
   },
   "outputs": [
    {
     "name": "stdout",
     "output_type": "stream",
     "text": [
      "school_int_embed\n",
      "sex_int_embed\n",
      "address_int_embed\n",
      "famsize_int_embed\n",
      "Pstatus_int_embed\n",
      "Mjob_int_embed\n",
      "Fjob_int_embed\n",
      "reason_int_embed\n",
      "guardian_int_embed\n",
      "schoolsup_int_embed\n",
      "famsup_int_embed\n",
      "paid_int_embed\n",
      "activities_int_embed\n",
      "nursery_int_embed\n",
      "higher_int_embed\n",
      "internet_int_embed\n"
     ]
    }
   ],
   "source": [
    "weights_cat_int = []\n",
    "embed_titles = []\n",
    "for l in model.layers:\n",
    "    if '_embed' in l.name:\n",
    "        if l.name != 'concat_embeds':\n",
    "            print(l.name)\n",
    "            embed_titles.append(l.name)\n",
    "            # Returns a list of one array\n",
    "            weights = l.get_weights()\n",
    "            \n",
    "            # Remove list format of array\n",
    "            weights = weights[0]\n",
    "            \n",
    "            # Capture the embeddings of the weights\n",
    "            embed1 = weights[0][0]\n",
    "            embed2 = weights[1][0]\n",
    "            weights_cat_int.append([embed1,embed2])\n",
    "    "
   ]
  },
  {
   "cell_type": "code",
   "execution_count": 64,
   "metadata": {},
   "outputs": [
    {
     "data": {
      "text/plain": [
       "[[-0.14095397, 0.15852907],\n",
       " [0.26671478, -0.14845312],\n",
       " [-0.12955588, 0.08156386],\n",
       " [-0.16359897, 0.012716597],\n",
       " [0.49898273, -0.07183353],\n",
       " [0.013363509, -0.01173],\n",
       " [-0.28033778, 0.0030941414],\n",
       " [0.16617963, -0.07341247],\n",
       " [0.24184528, -0.03940629],\n",
       " [-0.11427004, 0.24448292],\n",
       " [0.09203553, -0.12178429],\n",
       " [-0.22168279, 0.27490622],\n",
       " [0.2194105, -0.07132686],\n",
       " [-0.26980662, 0.10148663],\n",
       " [-0.3542229, 0.021018468],\n",
       " [-0.33112288, 0.0011887274]]"
      ]
     },
     "execution_count": 64,
     "metadata": {},
     "output_type": "execute_result"
    }
   ],
   "source": [
    "weights_cat_int"
   ]
  },
  {
   "cell_type": "code",
   "execution_count": 65,
   "metadata": {},
   "outputs": [
    {
     "name": "stdout",
     "output_type": "stream",
     "text": [
      "pca: [[ 0.94948544 -0.3138111 ]\n",
      " [ 0.3138111   0.94948544]]\n"
     ]
    }
   ],
   "source": [
    "n_components = 2\n",
    "pca = PCA(n_components=n_components)\n",
    "pca.fit(weights_cat_int.copy())\n",
    "weights_cat_int_pca = pca.transform(weights_cat_int)\n",
    "\n",
    "print ('pca:', pca.components_)"
   ]
  },
  {
   "cell_type": "code",
   "execution_count": 71,
   "metadata": {},
   "outputs": [
    {
     "data": {
      "image/png": "[encoded data removed]",
      "text/plain": [
       "<Figure size 576x432 with 1 Axes>"
      ]
     },
     "metadata": {},
     "output_type": "display_data"
    }
   ],
   "source": [
    "plt.figure(figsize=(8,6))\n",
    "\n",
    "sns.scatterplot(weights_cat_int_pca[:,0], weights_cat_int_pca[:,1], hue=embed_titles)\n",
    "plt.title('PCA Linear Dimensionality Reduction')\n",
    "plt.xlabel('PCA Component 1') \n",
    "plt.ylabel('PCA Component 2')\n",
    "plt.show()"
   ]
  },
  {
   "cell_type": "markdown",
   "metadata": {},
   "source": [
    "We performed PCA on the embedded weights. We ultimately ran out of time and were unable to perform t-SNE on the embeddings. The graph above clearly shows no correlation in weights."
   ]
  },
  {
   "cell_type": "code",
   "execution_count": null,
   "metadata": {},
   "outputs": [],
   "source": []
  }
 ],
 "metadata": {
  "kernelspec": {
   "display_name": "Python 3",
   "language": "python",
   "name": "python3"
  },
  "language_info": {
   "codemirror_mode": {
    "name": "ipython",
    "version": 3
   },
   "file_extension": ".py",
   "mimetype": "text/x-python",
   "name": "python",
   "nbconvert_exporter": "python",
   "pygments_lexer": "ipython3",
   "version": "3.7.7"
  }
 },
 "nbformat": 4,
 "nbformat_minor": 4
}
